{
 "cells": [
  {
   "cell_type": "code",
   "execution_count": 1,
   "metadata": {},
   "outputs": [],
   "source": [
    "import pandas as pd\n",
    "import numpy as np\n",
    "import os\n",
    "import json\n",
    "# import gui\n",
    "from collections import Counter\n",
    "import re\n",
    "import math as m\n",
    "import warnings\n",
    "\n",
    "warnings.simplefilter(\"ignore\")\n",
    "pd.options.display.max_columns = 20000\n",
    "colors = [\"W\", \"U\", \"B\", \"R\", \"G\", \"C\", \"P\",]"
   ]
  },
  {
   "attachments": {},
   "cell_type": "markdown",
   "metadata": {},
   "source": [
    "# Create a pandas dataframe of all cards\n",
    "![Alt Text](https://media.giphy.com/media/vFKqnCdLPNOKc/giphy.gif)"
   ]
  },
  {
   "attachments": {},
   "cell_type": "markdown",
   "metadata": {},
   "source": [
    "### Create initial dataframe and perform some preprocessing tasks"
   ]
  },
  {
   "cell_type": "code",
   "execution_count": 2,
   "metadata": {},
   "outputs": [],
   "source": [
    "# Get the absolute path of the current working directory\n",
    "current_dir = os.path.abspath(os.getcwd())\n",
    "\n",
    "# Get the absolute path of the parent directory\n",
    "parent_dir = os.path.abspath(os.path.join(current_dir, os.pardir))\n",
    "\n",
    "# Read our card database\n",
    "file_path = os.path.join(parent_dir, 'data', 'mtg_card_database.feather')\n",
    "lexicon = pd.read_feather(file_path)"
   ]
  },
  {
   "cell_type": "code",
   "execution_count": 3,
   "metadata": {},
   "outputs": [],
   "source": [
    "# Only keep the most recent arena set, dropping all reprints\n",
    "lexicon = lexicon.sort_values(by='arena_id', ascending=False).copy()\n",
    "lexicon = lexicon.drop_duplicates(subset=[\"name\"])\n",
    "\n",
    "# Set the index for card names to easily search\n",
    "def set_index(lexicon):\n",
    "    lexicon = lexicon.set_index(\"name\", drop=False)\n",
    "    lexicon.index.name = \"card_name\"\n",
    "    return lexicon\n",
    "lexicon = set_index(lexicon)\n",
    "\n",
    "# Drop unused columns\n",
    "lexicon = lexicon.drop(columns=['id', 'power', 'toughness', 'color_identity', 'set', 'keywords', 'flavor_text', 'edhrec_rank', 'arena_id', 'loyalty'], inplace=False)"
   ]
  },
  {
   "cell_type": "code",
   "execution_count": 4,
   "metadata": {},
   "outputs": [],
   "source": [
    "# Clean mana_cost\n",
    "def clean_mana_cost(s):\n",
    "    \"\"\"Cleans the mana_cost column by removing curly braces {} and by converting any numbers in mana cost to 1s representation\n",
    "\n",
    "    Args:\n",
    "        s (string): the mana_cost string \n",
    "\n",
    "    Returns:\n",
    "        string: cleaned mana cost\n",
    "    \"\"\"\n",
    "    # If s is not nonetype\n",
    "    try: \n",
    "        s = s.replace(\"{\", \"\").replace(\"}\", \"\")\n",
    "\n",
    "        # If the first character of s is a number\n",
    "        try:\n",
    "            num = int(s[0])\n",
    "            s = s.replace(s[0], '1' * num)\n",
    "        except:\n",
    "            pass\n",
    "    except:\n",
    "        pass\n",
    "\n",
    "    return s\n",
    "\n",
    "lexicon['mana_cost'] = lexicon['mana_cost'].apply(lambda s: clean_mana_cost(s))"
   ]
  },
  {
   "attachments": {},
   "cell_type": "markdown",
   "metadata": {},
   "source": [
    "## Dual-Faced Cards\n",
    "\n",
    "### Extract card data for both sides"
   ]
  },
  {
   "cell_type": "code",
   "execution_count": 5,
   "metadata": {},
   "outputs": [],
   "source": [
    "# Let's first create a dataframe that just has the card name and the column 'card_faces'\n",
    "double_cards_df = lexicon[['name','card_faces']].dropna()\n",
    "\n",
    "# DFC are a list of two dictionaries [ {k:v, k2:v2}, {k3:v3} ]\n",
    "def split_card_faces(row, face_number):\n",
    "    face = row[face_number]\n",
    "    return face\n",
    "\n",
    "face_one = 0\n",
    "face_two = 1\n",
    "double_cards_df['face1'] = double_cards_df['card_faces'].apply(lambda row: split_card_faces(row, face_one))\n",
    "double_cards_df['face2'] = double_cards_df['card_faces'].apply(lambda row: split_card_faces(row, face_two))\n",
    "\n",
    "# # Now let's drop the column 'card_faces'\n",
    "# double_cards_df = double_cards_df.copy()\n",
    "# double_cards_df.drop(\"card_faces\",axis=1)\n",
    "\n",
    "# We now go into each key within the dictionary of face1 and face2 and separate them into columns\n",
    "try:\n",
    "    double_cards_df[double_cards_df['face1'].apply(pd.Series).columns + \"_1\"] = double_cards_df['face1'].apply(pd.Series)\n",
    "    double_cards_df[double_cards_df['face2'].apply(pd.Series).columns + \"_2\"] = double_cards_df['face2'].apply(pd.Series)\n",
    "except:\n",
    "    pass\n",
    "\n",
    "# Define a list of columns we want to keep from the DFCs\n",
    "cols_to_keep = ['name', 'name_1', 'name_2', 'oracle_text_1','oracle_text_2',\n",
    "                'mana_cost_1', 'mana_cost_2', 'type_line_1', 'type_line_2']\n",
    "\n",
    "# For each column in the dataframe, if it's not a selected column, we drop it\n",
    "for col in double_cards_df.columns:\n",
    "    if col not in cols_to_keep:\n",
    "        double_cards_df.drop(col, axis=1, inplace=True)\n",
    "        \n",
    "# drop rows where 'name1' and 'name2' have the same value e.g. \"A Little Chat // A Little Chat\"\n",
    "double_cards_df['name_1'] = double_cards_df['name_1'].apply(lambda row: str(row).strip())\n",
    "double_cards_df['name_2'] = double_cards_df['name_2'].apply(lambda row: str(row).strip())\n",
    "mask = double_cards_df['name_1'] == double_cards_df['name_2']\n",
    "double_cards_df = double_cards_df.loc[~mask]\n",
    "\n",
    "# We now need to consolidate the 2 oracle texts into 1, we join them together\n",
    "double_cards_df['oracle_text_doubles'] = double_cards_df['oracle_text_1'] + \"\\n\" + double_cards_df['oracle_text_2']\n",
    "\n",
    "# Clean the mana costs\n",
    "double_cards_df['mana_cost_1'] = double_cards_df['mana_cost_1'].apply(lambda s: clean_mana_cost(s))\n",
    "double_cards_df['mana_cost_2'] = double_cards_df['mana_cost_2'].apply(lambda s: clean_mana_cost(s))"
   ]
  },
  {
   "cell_type": "code",
   "execution_count": 6,
   "metadata": {},
   "outputs": [
    {
     "data": {
      "text/plain": [
       "card_name\n",
       "A-Emerald Dragon // A-Dissonant Wave                      False\n",
       "A-Young Red Dragon // A-Bathe in Gold                     False\n",
       "A-Blessed Hippogriff // A-Tyr's Blessing                  False\n",
       "A-Rowan, Scholar of Sparks // A-Will, Scholar of Frost    False\n",
       "A-Monster Manual // A-Zoological Study                    False\n",
       "                                                          ...  \n",
       "Breakneck Rider // Neck Breaker                           False\n",
       "Scrapwork Rager // Scrapwork Rager                         True\n",
       "Walking Bulwark // Walking Bulwark                         True\n",
       "Armed // Dangerous                                        False\n",
       "A Little Chat // A Little Chat                             True\n",
       "Length: 1560, dtype: bool"
      ]
     },
     "execution_count": 6,
     "metadata": {},
     "output_type": "execute_result"
    }
   ],
   "source": [
    "mask"
   ]
  },
  {
   "cell_type": "code",
   "execution_count": 7,
   "metadata": {},
   "outputs": [],
   "source": [
    "# We now merge them by card name\n",
    "lexicon = lexicon.merge(double_cards_df, on=[\"name\"], how=\"left\")"
   ]
  },
  {
   "cell_type": "code",
   "execution_count": 8,
   "metadata": {},
   "outputs": [
    {
     "data": {
      "text/plain": [
       "0        False\n",
       "1        False\n",
       "2        False\n",
       "3        False\n",
       "4        False\n",
       "         ...  \n",
       "27850    False\n",
       "27851    False\n",
       "27852    False\n",
       "27853    False\n",
       "27854     True\n",
       "Name: name, Length: 27855, dtype: bool"
      ]
     },
     "execution_count": 8,
     "metadata": {},
     "output_type": "execute_result"
    }
   ],
   "source": [
    "# drop rows where 'name1' and 'name2' have the same value e.g. \"A Little Chat // A Little Chat\"\n",
    "def drop_duplicate_dfc(row):\n",
    "    try:\n",
    "        names = row.split(' // ')\n",
    "        return names[0] == names[1]\n",
    "    except:\n",
    "        return False\n",
    "\n",
    "mask = lexicon['name'].apply(lambda row: drop_duplicate_dfc(row))\n",
    "lexicon = lexicon.loc[~mask]\n",
    "mask"
   ]
  },
  {
   "cell_type": "code",
   "execution_count": 9,
   "metadata": {},
   "outputs": [],
   "source": [
    "# If oracle_text is empty (meaning it's a double faced card), we replace it with our 'oracle_text_doubles' column\n",
    "lexicon['oracle_text'] = np.where(lexicon['oracle_text'].isna(),lexicon['oracle_text_doubles'],lexicon['oracle_text'])\n"
   ]
  },
  {
   "cell_type": "code",
   "execution_count": 10,
   "metadata": {},
   "outputs": [],
   "source": [
    "# Drop secret lair dual faced cards which should be single faced cards\n",
    "tmpdf = lexicon[lexicon['name'].str.contains(\"//\")]\n",
    "mask = tmpdf[tmpdf['type_line'].isna()]\n",
    "lexicon = lexicon[~lexicon['name'].isin(mask['name'])]\n",
    "lexicon = lexicon.reset_index()"
   ]
  },
  {
   "attachments": {},
   "cell_type": "markdown",
   "metadata": {},
   "source": [
    "### Average the mana cost of both sides as well as the cmc"
   ]
  },
  {
   "cell_type": "code",
   "execution_count": 11,
   "metadata": {},
   "outputs": [],
   "source": [
    "def dfc_avg_mana_cost_and_cmc(row):\n",
    "    \"\"\"Averages the mana cost for dual-faced cards and the cmc\n",
    "\n",
    "    Args:\n",
    "        row (pd.Series): one row of the lexicon df\n",
    "\n",
    "    Returns:\n",
    "        tuple of strings: averaged mana cost and average cmc\n",
    "    \"\"\"\n",
    "    # Only for dual faced cards\n",
    "    if isinstance(row.card_faces, type(np.ndarray(0))):\n",
    "        # Initialize return value\n",
    "        mana_cost = ''\n",
    "        # Only for DFC with mana costs\n",
    "        try:\n",
    "            # Count the values of each mana symbol and add them together into a dictionary\n",
    "            s1 = Counter(row.mana_cost_1)\n",
    "            s2 = Counter(row.mana_cost_2)\n",
    "            s3 = s1+s2\n",
    "            if s3 == s1:\n",
    "                row.mana_cost = row.mana_cost_1\n",
    "                return row\n",
    "            elif s3 == s2:\n",
    "                row.mana_cost = row.mana_cost_2\n",
    "                return row\n",
    "            s4 = dict(s3)\n",
    "            # Divide all the values by 2 rounded up for Mana symbols and down for generic costs\n",
    "            for k in s4.keys():\n",
    "                # If there is a generic casting cost\n",
    "                try:\n",
    "                    int(k)\n",
    "                    s4[k] = max(m.floor(s4[k] / 2), 1)\n",
    "                # If there is a colored mana symbol\n",
    "                except:\n",
    "                    s4[k] = m.ceil(s4[k] / 2)\n",
    "                # concatenate the dict back into a string\n",
    "                mana_cost += (k * s4[k])\n",
    "            # Average cmc which is a return value\n",
    "            avg_cmc = sum(s3.values()) / 2\n",
    "            row.cmc = avg_cmc\n",
    "            row.mana_cost = mana_cost\n",
    "            # Return the averaged mana cost as a string\n",
    "            return row\n",
    "        except:\n",
    "            pass\n",
    "    # If its not a DFC then just return the mana_cost already present\n",
    "    return row\n",
    "\n",
    "lexicon = lexicon.apply(dfc_avg_mana_cost_and_cmc, axis=1)"
   ]
  },
  {
   "attachments": {},
   "cell_type": "markdown",
   "metadata": {},
   "source": [
    "### Create columns for casting cost pips\n",
    "notes: \n",
    "- Phyrexian mana is represented as a P\n",
    "- Hybrid mana counts as 1/2 for either color source\n"
   ]
  },
  {
   "cell_type": "code",
   "execution_count": 12,
   "metadata": {},
   "outputs": [],
   "source": [
    "def count_pips(mana_cost):\n",
    "    \"\"\"Applied to the mana_cost column in lexicon to create columns for the number of pips in that color for each color\n",
    "\n",
    "    Args:\n",
    "        mana_cost (string): the mana cost as a str\n",
    "\n",
    "    Returns:\n",
    "        Counter: histogram of mana cost pips\n",
    "    \"\"\"\n",
    "    pips = Counter(mana_cost)\n",
    "\n",
    "    # Count hybrid mana as 1/2 a regular cost\n",
    "    if '/' in pips:\n",
    "        for i in range(len(mana_cost)):\n",
    "            if mana_cost[i] == '/':\n",
    "                try:\n",
    "                    pips[mana_cost[i-1]] -= 0.5\n",
    "                    pips[mana_cost[i+1]] -= 0.5\n",
    "                except:\n",
    "                    pass\n",
    "\n",
    "        return pips\n",
    "\n",
    "    return pips\n",
    "\n",
    "lexicon = lexicon.copy()\n",
    "for color in colors:\n",
    "    row_name = f'cast_cost_{color}'\n",
    "    lexicon.loc[:, f'{row_name}'] = lexicon['mana_cost'].apply(lambda row: count_pips(row)[f'{color}'])"
   ]
  },
  {
   "attachments": {},
   "cell_type": "markdown",
   "metadata": {},
   "source": [
    "### Create columns for produced mana colors of non-land cards"
   ]
  },
  {
   "cell_type": "code",
   "execution_count": 13,
   "metadata": {},
   "outputs": [],
   "source": [
    "def count_produced_mana(produced_mana):\n",
    "    \"\"\"Applied to the produced_mana column, returns the colors produced by a card\n",
    "\n",
    "    Args:\n",
    "        row (List[str]): \n",
    "\n",
    "    Returns:\n",
    "        Counter: a histogram of the produced mana symbols in the card\n",
    "    \"\"\"    \n",
    "    return Counter(produced_mana)\n",
    "\n",
    "lexicon = lexicon.copy()\n",
    "for color in colors:\n",
    "    row_name = f'produces_{color}'\n",
    "    lexicon.loc[:, f'{row_name}'] = lexicon['produced_mana'].apply(lambda row: count_produced_mana(row)[f'{color}'])"
   ]
  },
  {
   "attachments": {},
   "cell_type": "markdown",
   "metadata": {},
   "source": [
    "## X costed spells\n",
    "Count the number of X's in the spell and return that in a new column"
   ]
  },
  {
   "cell_type": "code",
   "execution_count": 14,
   "metadata": {},
   "outputs": [],
   "source": [
    "def count_x_costs(mana_cost):\n",
    "    \"\"\"Creates a column that includes a count for the number of X's in the mana cost of a card\n",
    "\n",
    "    Args:\n",
    "        mana_cost (str): card's mana cost\n",
    "\n",
    "    Returns:\n",
    "        int: The number of X's\n",
    "    \"\"\"\n",
    "    hist = Counter(mana_cost)\n",
    "    num_x = hist['X']\n",
    "\n",
    "    return num_x\n",
    "\n",
    "lexicon = lexicon.copy()\n",
    "lexicon.loc[:, 'num_x_in_mana_cost'] = lexicon['mana_cost'].apply(lambda row: count_x_costs(row))"
   ]
  },
  {
   "attachments": {},
   "cell_type": "markdown",
   "metadata": {},
   "source": [
    "## Card Selection"
   ]
  },
  {
   "cell_type": "code",
   "execution_count": 15,
   "metadata": {},
   "outputs": [],
   "source": [
    "# Column for looting\n",
    "lexicon['has_looting'] = np.where((\n",
    "    (lexicon['oracle_text'].str.lower().str.contains(r\"draw (a|one|two|three|four) (card|cards), then discard (a|one|two|three|four) (card|cards)\",regex=True)==True) |\n",
    "    (lexicon['oracle_text'].str.lower().str.contains(r\"discard (a|one|two|three|four) (card|cards)(,|:) (draw|then draw) (a|one|two|three|four) (card|cards)\",regex=True)==True) |\n",
    "    (lexicon['oracle_text'].str.lower().str.contains(r\"create (.*?) (blood|clue) token\",regex=True)==True) |\n",
    "    (lexicon['oracle_text'].str.lower().str.contains(r\"cycling\",regex=True)==True)\n",
    "    ),1,0)"
   ]
  },
  {
   "cell_type": "code",
   "execution_count": 16,
   "metadata": {},
   "outputs": [],
   "source": [
    "# Column for card draw\n",
    "lexicon['has_carddraw'] = np.where((\n",
    "    (lexicon['oracle_text'].str.lower().str.contains(r\"draw (a|one|two|three|four|five|six|seven|x|(.*?) x) (card|cards)\", regex=True)==True) |\n",
    "    (lexicon['oracle_text'].str.lower().str.contains(r\"draw (cards equal to|that many cards)\", regex=True)==True) |\n",
    "    (lexicon['oracle_text'].str.lower().str.contains(r\"target player draws (.*?) (card|cards)\", regex=True)==True) |\n",
    "    (lexicon['oracle_text'].str.lower().str.contains(r\"(look at|reveal) the.*?put.*?(into|in) your hand\", regex=True)==True) |\n",
    "    (lexicon['oracle_text'].str.lower().str.contains(r\"(exile|look at the).*?(card|cards).*?you may (cast|play)\", regex=True)==True)\n",
    "    ) & (\n",
    "    (lexicon['oracle_text'].str.lower().str.contains(r\"whenever you draw a card\", regex=True)==False) &\n",
    "    (lexicon['oracle_text'].str.lower().str.contains(r\"if you would draw a card\", regex=True)==False) &\n",
    "    (lexicon['oracle_text'].str.lower().str.contains(r\"draw (a|one|two|three|four) (card|cards), then discard (a|one|two|three|four) (card|cards)\", regex=True)==False) &\n",
    "    (lexicon['oracle_text'].str.lower().str.contains(r\"discard (a|one|two|three|four) (card|cards), then draw (a|one|two|three|four) (card|cards)\", regex=True)==False)\n",
    "    ),1,0)"
   ]
  },
  {
   "attachments": {},
   "cell_type": "markdown",
   "metadata": {},
   "source": [
    "## Treasure Token Creation"
   ]
  },
  {
   "cell_type": "code",
   "execution_count": 17,
   "metadata": {},
   "outputs": [],
   "source": [
    "regex_4 = \"(a|one|up to one|two|up to two|three|up to three|four|up to four|five|up to five|six|up to six|x|up to x)\"\n",
    "# Makes treasures\n",
    "lexicon['makes_treasure_tokens'] = np.where((\n",
    "    (lexicon['oracle_text'].str.lower().str.contains(f\"(create|put) {regex_4}.*?treasure (token|tokens)\", regex=True)==True)\n",
    "    ),1,0)"
   ]
  },
  {
   "attachments": {},
   "cell_type": "markdown",
   "metadata": {},
   "source": [
    "## Cost Reduction"
   ]
  },
  {
   "attachments": {},
   "cell_type": "markdown",
   "metadata": {},
   "source": [
    "It's important to note that the \"+\" character is a quantifier and applies only to the element that immediately precedes it. If you want to apply it to a group of characters, you can use parentheses to group them together. For example, the regular expression \"(ab)+\" matches one or more occurrences of the sequence \"ab\"."
   ]
  },
  {
   "cell_type": "code",
   "execution_count": 18,
   "metadata": {},
   "outputs": [],
   "source": [
    "lexicon['reduced_spells'] = np.where(\n",
    "    (\n",
    "        (lexicon['oracle_text'].str.lower().str.contains(r\"(rather\\sthan|instead\\sof pay|paying) (its|it's|their|this spell's|the) mana cost\", regex=True)==True) |\n",
    "        (lexicon['oracle_text'].str.lower().str.contains(r\"this spell costs (\\{[\\dx]\\})?((\\{[\\/wubrgc]\\})+)? less to cast\", regex=True)==True) |\n",
    "        (lexicon['oracle_text'].str.lower().str.contains(r\"affinity for\", regex=True)==True)\n",
    "    ),1,0)"
   ]
  },
  {
   "cell_type": "code",
   "execution_count": 19,
   "metadata": {},
   "outputs": [],
   "source": [
    "lexicon['free_spells'] = np.where(\n",
    "    (\n",
    "        (lexicon['oracle_text'].str.lower().str.contains(r\"(without|instead\\sof paying) (its|it's|their|this spell's|the) mana cost\", regex=True)==True)\n",
    "        |\n",
    "        (\n",
    "            (lexicon['oracle_text'].str.lower().str.contains(r\"cast|play\", regex=True)==True) & \n",
    "            (lexicon['oracle_text'].str.lower().str.contains(r\"spell|spells|card|cards\", regex=True)==True) & \n",
    "            (lexicon['oracle_text'].str.lower().str.contains(r\"without paying\", regex=True)==True) & \n",
    "            (lexicon['oracle_text'].str.lower().str.contains(r\"mana\", regex=True)==True)\n",
    "        )\n",
    "    ),1,0)"
   ]
  },
  {
   "attachments": {},
   "cell_type": "markdown",
   "metadata": {},
   "source": [
    "### Prepare lands as an output"
   ]
  },
  {
   "cell_type": "code",
   "execution_count": 20,
   "metadata": {},
   "outputs": [],
   "source": [
    "def identify_land(row):\n",
    "    try:\n",
    "        return 1 if 'Land' in row else 0\n",
    "    except:\n",
    "        return 0\n",
    "\n",
    "lexicon['is_land'] = lexicon['type_line'].apply(lambda row: identify_land(row))"
   ]
  },
  {
   "attachments": {},
   "cell_type": "markdown",
   "metadata": {},
   "source": [
    "### Drop unnecessary columns and output to a feather file"
   ]
  },
  {
   "cell_type": "code",
   "execution_count": 21,
   "metadata": {},
   "outputs": [],
   "source": [
    "lexicon = lexicon.copy()\n",
    "lexicon = lexicon.drop(\n",
    "    columns=[\n",
    "        'index',\n",
    "        # 'name',\n",
    "        'mana_cost',\n",
    "        # 'cmc',\n",
    "        # 'type_line',\n",
    "        'oracle_text',\n",
    "        'colors',\n",
    "        'produced_mana',\n",
    "        'rarity',\n",
    "        'card_faces',\n",
    "        'mana_cost_1',\n",
    "        'name_1',\n",
    "        'oracle_text_1',\n",
    "        'type_line_1',\n",
    "        'mana_cost_2',\n",
    "        'name_2',\n",
    "        'oracle_text_2',\n",
    "        'type_line_2',\n",
    "        'oracle_text_doubles',\n",
    "    ]\n",
    ")"
   ]
  },
  {
   "cell_type": "code",
   "execution_count": 22,
   "metadata": {},
   "outputs": [],
   "source": [
    "file_path = os.path.join(parent_dir, 'data', 'cards.feather')\n",
    "lexicon.to_feather(file_path)"
   ]
  },
  {
   "cell_type": "code",
   "execution_count": 23,
   "metadata": {},
   "outputs": [
    {
     "data": {
      "text/html": [
       "<div>\n",
       "<style scoped>\n",
       "    .dataframe tbody tr th:only-of-type {\n",
       "        vertical-align: middle;\n",
       "    }\n",
       "\n",
       "    .dataframe tbody tr th {\n",
       "        vertical-align: top;\n",
       "    }\n",
       "\n",
       "    .dataframe thead th {\n",
       "        text-align: right;\n",
       "    }\n",
       "</style>\n",
       "<table border=\"1\" class=\"dataframe\">\n",
       "  <thead>\n",
       "    <tr style=\"text-align: right;\">\n",
       "      <th></th>\n",
       "      <th>name</th>\n",
       "      <th>cmc</th>\n",
       "      <th>type_line</th>\n",
       "      <th>cast_cost_W</th>\n",
       "      <th>cast_cost_U</th>\n",
       "      <th>cast_cost_B</th>\n",
       "      <th>cast_cost_R</th>\n",
       "      <th>cast_cost_G</th>\n",
       "      <th>cast_cost_C</th>\n",
       "      <th>cast_cost_P</th>\n",
       "      <th>produces_W</th>\n",
       "      <th>produces_U</th>\n",
       "      <th>produces_B</th>\n",
       "      <th>produces_R</th>\n",
       "      <th>produces_G</th>\n",
       "      <th>produces_C</th>\n",
       "      <th>produces_P</th>\n",
       "      <th>num_x_in_mana_cost</th>\n",
       "      <th>has_looting</th>\n",
       "      <th>has_carddraw</th>\n",
       "      <th>makes_treasure_tokens</th>\n",
       "      <th>reduced_spells</th>\n",
       "      <th>free_spells</th>\n",
       "      <th>is_land</th>\n",
       "    </tr>\n",
       "  </thead>\n",
       "  <tbody>\n",
       "    <tr>\n",
       "      <th>4657</th>\n",
       "      <td>Shatterskull Smashing // Shatterskull, the Ham...</td>\n",
       "      <td>2.0</td>\n",
       "      <td>Sorcery // Land</td>\n",
       "      <td>0.0</td>\n",
       "      <td>0.0</td>\n",
       "      <td>0.0</td>\n",
       "      <td>2.0</td>\n",
       "      <td>0.0</td>\n",
       "      <td>0</td>\n",
       "      <td>0.0</td>\n",
       "      <td>0</td>\n",
       "      <td>0</td>\n",
       "      <td>0</td>\n",
       "      <td>1</td>\n",
       "      <td>0</td>\n",
       "      <td>0</td>\n",
       "      <td>0</td>\n",
       "      <td>1</td>\n",
       "      <td>0</td>\n",
       "      <td>0</td>\n",
       "      <td>0</td>\n",
       "      <td>0</td>\n",
       "      <td>0</td>\n",
       "      <td>1</td>\n",
       "    </tr>\n",
       "  </tbody>\n",
       "</table>\n",
       "</div>"
      ],
      "text/plain": [
       "                                                   name  cmc        type_line  \\\n",
       "4657  Shatterskull Smashing // Shatterskull, the Ham...  2.0  Sorcery // Land   \n",
       "\n",
       "      cast_cost_W  cast_cost_U  cast_cost_B  cast_cost_R  cast_cost_G  \\\n",
       "4657          0.0          0.0          0.0          2.0          0.0   \n",
       "\n",
       "      cast_cost_C  cast_cost_P  produces_W  produces_U  produces_B  \\\n",
       "4657            0          0.0           0           0           0   \n",
       "\n",
       "      produces_R  produces_G  produces_C  produces_P  num_x_in_mana_cost  \\\n",
       "4657           1           0           0           0                   1   \n",
       "\n",
       "      has_looting  has_carddraw  makes_treasure_tokens  reduced_spells  \\\n",
       "4657            0             0                      0               0   \n",
       "\n",
       "      free_spells  is_land  \n",
       "4657            0        1  "
      ]
     },
     "execution_count": 23,
     "metadata": {},
     "output_type": "execute_result"
    }
   ],
   "source": [
    "lexicon[lexicon['name'] == 'Shatterskull Smashing // Shatterskull, the Hammer Pass']"
   ]
  },
  {
   "attachments": {},
   "cell_type": "markdown",
   "metadata": {},
   "source": [
    "~~- Mana_Costs\n",
    "    - Phyrexian Mana\n",
    "    - Dual Color (either red or white mana can be used to pay for RW)\n",
    "    - X cost (average value for X is math.floor(4 / num_x))~~\n",
    "    \n",
    "~~- Card Selection\n",
    "    - define RegEx pattern\n",
    "    - Create method~~\n",
    "~~- Cards which make treasure (RegEx pattern \"Create a Treasure Token\")~~\n",
    "\n",
    "~~Cards which can be cast for free or which cast other cards for free~~\n",
    "- Beautiful Soup\n",
    "    - How to use it\n",
    "    - How big do we want our dataset\n",
    "    - How do we store the dataframes???"
   ]
  },
  {
   "attachments": {},
   "cell_type": "markdown",
   "metadata": {},
   "source": [
    "Could combine all card values into one so that one deck will be one row in the final dataframe?\n",
    "- Might not be a good idea because where card selection and treasure is on the mana curve matters\n",
    "- Also more color pips on cards that are low cmc are of higher importance"
   ]
  }
 ],
 "metadata": {
  "kernelspec": {
   "display_name": "Python 3",
   "language": "python",
   "name": "python3"
  },
  "language_info": {
   "codemirror_mode": {
    "name": "ipython",
    "version": 3
   },
   "file_extension": ".py",
   "mimetype": "text/x-python",
   "name": "python",
   "nbconvert_exporter": "python",
   "pygments_lexer": "ipython3",
   "version": "3.10.4"
  },
  "orig_nbformat": 4,
  "vscode": {
   "interpreter": {
    "hash": "06e03e42e597b5f9bbde1eaa07e2d79a4615660b5ba963eb680d5caa7003dc90"
   }
  }
 },
 "nbformat": 4,
 "nbformat_minor": 2
}
