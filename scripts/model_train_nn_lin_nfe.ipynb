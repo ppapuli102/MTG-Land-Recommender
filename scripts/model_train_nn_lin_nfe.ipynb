{
 "cells": [
  {
   "attachments": {},
   "cell_type": "markdown",
   "metadata": {},
   "source": [
    "Mean squared error: 12.425274848937988\n",
    "R-squared: 0.7641493740399432"
   ]
  },
  {
   "cell_type": "code",
   "execution_count": 1,
   "metadata": {},
   "outputs": [],
   "source": [
    "import pandas as pd\n",
    "import numpy as np\n",
    "import os\n",
    "\n",
    "import tensorflow as tf\n",
    "from tensorflow import keras\n",
    "from sklearn.model_selection import train_test_split\n",
    "\n",
    "from sklearn.ensemble import RandomForestRegressor\n",
    "from sklearn.metrics import mean_squared_error, r2_score\n",
    "\n",
    "import matplotlib.pyplot as plt\n",
    "\n",
    "import joblib"
   ]
  },
  {
   "cell_type": "code",
   "execution_count": 2,
   "metadata": {},
   "outputs": [],
   "source": [
    "pd.options.display.max_columns = 20000"
   ]
  },
  {
   "cell_type": "code",
   "execution_count": 3,
   "metadata": {},
   "outputs": [],
   "source": [
    "# Load the dataset using pandas\n",
    "input = pd.read_feather('C:/Users/Peter/Documents/GitHub/MTG-Land-Recommender/data/input.feather')\n",
    "output = pd.read_feather('C:/Users/Peter/Documents/GitHub/MTG-Land-Recommender/data/output.feather')"
   ]
  },
  {
   "cell_type": "code",
   "execution_count": 4,
   "metadata": {},
   "outputs": [],
   "source": [
    "# Split the dataset into training and testing sets\n",
    "X_train, X_test, y_train, y_test = train_test_split(input, output, test_size=0.2, random_state=42)"
   ]
  },
  {
   "cell_type": "code",
   "execution_count": 5,
   "metadata": {},
   "outputs": [
    {
     "name": "stdout",
     "output_type": "stream",
     "text": [
      "Epoch 1/100\n",
      "233/233 [==============================] - 1s 939us/step - loss: 92.5446\n",
      "Epoch 2/100\n",
      "233/233 [==============================] - 0s 836us/step - loss: 40.6399\n",
      "Epoch 3/100\n",
      "233/233 [==============================] - 0s 894us/step - loss: 33.3864\n",
      "Epoch 4/100\n",
      "233/233 [==============================] - 0s 930us/step - loss: 29.9604\n",
      "Epoch 5/100\n",
      "233/233 [==============================] - 0s 878us/step - loss: 27.4639\n",
      "Epoch 6/100\n",
      "233/233 [==============================] - 0s 843us/step - loss: 25.3673\n",
      "Epoch 7/100\n",
      "233/233 [==============================] - 0s 890us/step - loss: 24.2111\n",
      "Epoch 8/100\n",
      "233/233 [==============================] - 0s 850us/step - loss: 22.5440\n",
      "Epoch 9/100\n",
      "233/233 [==============================] - 0s 828us/step - loss: 21.0687\n",
      "Epoch 10/100\n",
      "233/233 [==============================] - 0s 834us/step - loss: 20.5428\n",
      "Epoch 11/100\n",
      "233/233 [==============================] - 0s 835us/step - loss: 18.9216\n",
      "Epoch 12/100\n",
      "233/233 [==============================] - 0s 839us/step - loss: 18.0155\n",
      "Epoch 13/100\n",
      "233/233 [==============================] - 0s 833us/step - loss: 17.1920\n",
      "Epoch 14/100\n",
      "233/233 [==============================] - 0s 836us/step - loss: 16.7727\n",
      "Epoch 15/100\n",
      "233/233 [==============================] - 0s 835us/step - loss: 16.1836\n",
      "Epoch 16/100\n",
      "233/233 [==============================] - 0s 828us/step - loss: 15.9041\n",
      "Epoch 17/100\n",
      "233/233 [==============================] - 0s 836us/step - loss: 15.1827\n",
      "Epoch 18/100\n",
      "233/233 [==============================] - 0s 836us/step - loss: 15.0271\n",
      "Epoch 19/100\n",
      "233/233 [==============================] - 0s 901us/step - loss: 14.6133\n",
      "Epoch 20/100\n",
      "233/233 [==============================] - 0s 871us/step - loss: 14.1923\n",
      "Epoch 21/100\n",
      "233/233 [==============================] - 0s 840us/step - loss: 13.9060\n",
      "Epoch 22/100\n",
      "233/233 [==============================] - 0s 829us/step - loss: 13.7477\n",
      "Epoch 23/100\n",
      "233/233 [==============================] - 0s 842us/step - loss: 13.5739\n",
      "Epoch 24/100\n",
      "233/233 [==============================] - 0s 873us/step - loss: 13.1794\n",
      "Epoch 25/100\n",
      "233/233 [==============================] - 0s 837us/step - loss: 12.9422\n",
      "Epoch 26/100\n",
      "233/233 [==============================] - 0s 832us/step - loss: 12.8671\n",
      "Epoch 27/100\n",
      "233/233 [==============================] - 0s 852us/step - loss: 12.8536\n",
      "Epoch 28/100\n",
      "233/233 [==============================] - 0s 838us/step - loss: 12.5290\n",
      "Epoch 29/100\n",
      "233/233 [==============================] - 0s 818us/step - loss: 12.2477\n",
      "Epoch 30/100\n",
      "233/233 [==============================] - 0s 834us/step - loss: 12.2200\n",
      "Epoch 31/100\n",
      "233/233 [==============================] - 0s 848us/step - loss: 12.3575\n",
      "Epoch 32/100\n",
      "233/233 [==============================] - 0s 836us/step - loss: 11.7906\n",
      "Epoch 33/100\n",
      "233/233 [==============================] - 0s 855us/step - loss: 12.0133\n",
      "Epoch 34/100\n",
      "233/233 [==============================] - 0s 833us/step - loss: 11.7348\n",
      "Epoch 35/100\n",
      "233/233 [==============================] - 0s 827us/step - loss: 11.5123\n",
      "Epoch 36/100\n",
      "233/233 [==============================] - 0s 828us/step - loss: 11.4260\n",
      "Epoch 37/100\n",
      "233/233 [==============================] - 0s 824us/step - loss: 11.5844\n",
      "Epoch 38/100\n",
      "233/233 [==============================] - 0s 829us/step - loss: 11.3270\n",
      "Epoch 39/100\n",
      "233/233 [==============================] - 0s 833us/step - loss: 11.0777\n",
      "Epoch 40/100\n",
      "233/233 [==============================] - 0s 848us/step - loss: 11.1362\n",
      "Epoch 41/100\n",
      "233/233 [==============================] - 0s 828us/step - loss: 10.9976\n",
      "Epoch 42/100\n",
      "233/233 [==============================] - 0s 836us/step - loss: 11.0178\n",
      "Epoch 43/100\n",
      "233/233 [==============================] - 0s 834us/step - loss: 10.8342\n",
      "Epoch 44/100\n",
      "233/233 [==============================] - 0s 837us/step - loss: 10.7588\n",
      "Epoch 45/100\n",
      "233/233 [==============================] - 0s 834us/step - loss: 10.7770\n",
      "Epoch 46/100\n",
      "233/233 [==============================] - 0s 831us/step - loss: 10.6204\n",
      "Epoch 47/100\n",
      "233/233 [==============================] - 0s 826us/step - loss: 10.4029\n",
      "Epoch 48/100\n",
      "233/233 [==============================] - 0s 831us/step - loss: 10.4666\n",
      "Epoch 49/100\n",
      "233/233 [==============================] - 0s 818us/step - loss: 10.5000\n",
      "Epoch 50/100\n",
      "233/233 [==============================] - 0s 825us/step - loss: 10.1628\n",
      "Epoch 51/100\n",
      "233/233 [==============================] - 0s 808us/step - loss: 10.2521\n",
      "Epoch 52/100\n",
      "233/233 [==============================] - 0s 813us/step - loss: 10.0652\n",
      "Epoch 53/100\n",
      "233/233 [==============================] - 0s 835us/step - loss: 10.1207\n",
      "Epoch 54/100\n",
      "233/233 [==============================] - 0s 813us/step - loss: 9.9346\n",
      "Epoch 55/100\n",
      "233/233 [==============================] - 0s 819us/step - loss: 10.0268\n",
      "Epoch 56/100\n",
      "233/233 [==============================] - 0s 818us/step - loss: 9.9037\n",
      "Epoch 57/100\n",
      "233/233 [==============================] - 0s 832us/step - loss: 10.1666\n",
      "Epoch 58/100\n",
      "233/233 [==============================] - 0s 833us/step - loss: 9.8246\n",
      "Epoch 59/100\n",
      "233/233 [==============================] - 0s 821us/step - loss: 9.9178\n",
      "Epoch 60/100\n",
      "233/233 [==============================] - 0s 874us/step - loss: 9.7804\n",
      "Epoch 61/100\n",
      "233/233 [==============================] - 0s 827us/step - loss: 9.5606\n",
      "Epoch 62/100\n",
      "233/233 [==============================] - 0s 815us/step - loss: 9.4774\n",
      "Epoch 63/100\n",
      "233/233 [==============================] - 0s 815us/step - loss: 9.8354\n",
      "Epoch 64/100\n",
      "233/233 [==============================] - 0s 829us/step - loss: 9.7132\n",
      "Epoch 65/100\n",
      "233/233 [==============================] - 0s 819us/step - loss: 9.5415\n",
      "Epoch 66/100\n",
      "233/233 [==============================] - 0s 828us/step - loss: 9.5534\n",
      "Epoch 67/100\n",
      "233/233 [==============================] - 0s 824us/step - loss: 9.5650\n",
      "Epoch 68/100\n",
      "233/233 [==============================] - 0s 827us/step - loss: 9.3363\n",
      "Epoch 69/100\n",
      "233/233 [==============================] - 0s 808us/step - loss: 9.3749\n",
      "Epoch 70/100\n",
      "233/233 [==============================] - 0s 809us/step - loss: 9.1517\n",
      "Epoch 71/100\n",
      "233/233 [==============================] - 0s 825us/step - loss: 9.3411\n",
      "Epoch 72/100\n",
      "233/233 [==============================] - 0s 828us/step - loss: 9.0556\n",
      "Epoch 73/100\n",
      "233/233 [==============================] - 0s 821us/step - loss: 9.0260\n",
      "Epoch 74/100\n",
      "233/233 [==============================] - 0s 824us/step - loss: 9.0018\n",
      "Epoch 75/100\n",
      "233/233 [==============================] - 0s 827us/step - loss: 8.9929\n",
      "Epoch 76/100\n",
      "233/233 [==============================] - 0s 826us/step - loss: 8.9700\n",
      "Epoch 77/100\n",
      "233/233 [==============================] - 0s 830us/step - loss: 9.0549\n",
      "Epoch 78/100\n",
      "233/233 [==============================] - 0s 822us/step - loss: 8.8672\n",
      "Epoch 79/100\n",
      "233/233 [==============================] - 0s 833us/step - loss: 8.8982\n",
      "Epoch 80/100\n",
      "233/233 [==============================] - 0s 837us/step - loss: 9.1070\n",
      "Epoch 81/100\n",
      "233/233 [==============================] - 0s 828us/step - loss: 8.8112\n",
      "Epoch 82/100\n",
      "233/233 [==============================] - 0s 823us/step - loss: 8.6042\n",
      "Epoch 83/100\n",
      "233/233 [==============================] - 0s 824us/step - loss: 8.7690\n",
      "Epoch 84/100\n",
      "233/233 [==============================] - 0s 817us/step - loss: 8.7243\n",
      "Epoch 85/100\n",
      "233/233 [==============================] - 0s 821us/step - loss: 8.7023\n",
      "Epoch 86/100\n",
      "233/233 [==============================] - 0s 816us/step - loss: 8.8018\n",
      "Epoch 87/100\n",
      "233/233 [==============================] - 0s 826us/step - loss: 8.6078\n",
      "Epoch 88/100\n",
      "233/233 [==============================] - 0s 823us/step - loss: 8.5209\n",
      "Epoch 89/100\n",
      "233/233 [==============================] - 0s 823us/step - loss: 8.5789\n",
      "Epoch 90/100\n",
      "233/233 [==============================] - 0s 814us/step - loss: 8.6232\n",
      "Epoch 91/100\n",
      "233/233 [==============================] - 0s 820us/step - loss: 8.4631\n",
      "Epoch 92/100\n",
      "233/233 [==============================] - 0s 831us/step - loss: 8.4689\n",
      "Epoch 93/100\n",
      "233/233 [==============================] - 0s 816us/step - loss: 8.4849\n",
      "Epoch 94/100\n",
      "233/233 [==============================] - 0s 821us/step - loss: 8.1917\n",
      "Epoch 95/100\n",
      "233/233 [==============================] - 0s 900us/step - loss: 8.2256\n",
      "Epoch 96/100\n",
      "233/233 [==============================] - 0s 838us/step - loss: 8.3361\n",
      "Epoch 97/100\n",
      "233/233 [==============================] - 0s 828us/step - loss: 8.1942\n",
      "Epoch 98/100\n",
      "233/233 [==============================] - 0s 824us/step - loss: 8.4113\n",
      "Epoch 99/100\n",
      "233/233 [==============================] - 0s 818us/step - loss: 8.1353\n",
      "Epoch 100/100\n",
      "233/233 [==============================] - 0s 834us/step - loss: 8.0389\n"
     ]
    },
    {
     "data": {
      "text/plain": [
       "<keras.callbacks.History at 0x2257d0dda80>"
      ]
     },
     "execution_count": 5,
     "metadata": {},
     "output_type": "execute_result"
    }
   ],
   "source": [
    "# Define the neural network architecture\n",
    "model = keras.Sequential([\n",
    "    keras.layers.Dense(64, activation='relu', input_shape=(X_train.shape[1],)),\n",
    "    keras.layers.Dense(32, activation='relu'),\n",
    "    keras.layers.Dense(1)\n",
    "])\n",
    "\n",
    "# Compile the model with optimizer and loss function\n",
    "model.compile(optimizer='adam', loss='mse')\n",
    "\n",
    "# Train the model with the training set\n",
    "model.fit(X_train, y_train, epochs=100, batch_size=32)"
   ]
  },
  {
   "cell_type": "code",
   "execution_count": 6,
   "metadata": {},
   "outputs": [
    {
     "name": "stdout",
     "output_type": "stream",
     "text": [
      "59/59 [==============================] - 0s 725us/step - loss: 12.5364\n",
      "Mean squared error: 12.536429405212402\n"
     ]
    }
   ],
   "source": [
    "# Evaluate the accuracy of the model with the testing set\n",
    "mse = model.evaluate(X_test, y_test)\n",
    "print('Mean squared error:', mse)"
   ]
  },
  {
   "cell_type": "code",
   "execution_count": 7,
   "metadata": {},
   "outputs": [
    {
     "name": "stdout",
     "output_type": "stream",
     "text": [
      "59/59 [==============================] - 0s 692us/step\n",
      "R-squared: 0.7620395414293224\n"
     ]
    }
   ],
   "source": [
    "# Use the trained model to make predictions on the testing set\n",
    "y_pred = model.predict(X_test)\n",
    "\n",
    "# Calculate the R-squared metric between the predicted and actual values\n",
    "r2 = r2_score(y_test, y_pred)\n",
    "print('R-squared:', r2)"
   ]
  },
  {
   "cell_type": "code",
   "execution_count": 8,
   "metadata": {},
   "outputs": [
    {
     "data": {
      "image/png": "[encoded data removed]",
      "text/plain": [
       "<Figure size 1000x500 with 1 Axes>"
      ]
     },
     "metadata": {},
     "output_type": "display_data"
    }
   ],
   "source": [
    "# Get the weights of the model's layers\n",
    "weights = model.get_weights()\n",
    "\n",
    "# Extract the weights of the input layer and the first dense layer\n",
    "input_weights = weights[0]\n",
    "dense_weights = weights[1]\n",
    "\n",
    "# Calculate the absolute weights of the input features\n",
    "abs_input_weights = np.abs(input_weights)\n",
    "\n",
    "# Multiply the absolute weights of the input features with the weights of the first dense layer\n",
    "feature_importances = np.dot(abs_input_weights, dense_weights)\n",
    "\n",
    "# Normalize the feature importances\n",
    "feature_importances /= np.sum(feature_importances)\n",
    "\n",
    "# Get the feature names from the original dataset\n",
    "feature_names = input.columns\n",
    "\n",
    "# Plot the feature importances in a bar chart\n",
    "plt.figure(figsize=(10, 5))\n",
    "plt.bar(range(input.shape[1]), feature_importances)\n",
    "plt.xticks(range(input.shape[1]), feature_names, rotation=90)\n",
    "plt.xlabel('Features')\n",
    "plt.ylabel('Importance')\n",
    "plt.title('Feature importances')\n",
    "plt.show()"
   ]
  },
  {
   "cell_type": "code",
   "execution_count": 9,
   "metadata": {},
   "outputs": [
    {
     "name": "stdout",
     "output_type": "stream",
     "text": [
      "Keras weights file (<HDF5 file \"variables.h5\" (mode r+)>) saving:\n",
      "...layers\\dense\n",
      "......vars\n",
      ".........0\n",
      ".........1\n",
      "...layers\\dense_1\n",
      "......vars\n",
      ".........0\n",
      ".........1\n",
      "...layers\\dense_2\n",
      "......vars\n",
      ".........0\n",
      ".........1\n",
      "...metrics\\mean\n",
      "......vars\n",
      ".........0\n",
      ".........1\n",
      "...optimizer\n",
      "......vars\n",
      ".........0\n",
      ".........1\n",
      ".........10\n",
      ".........11\n",
      ".........12\n",
      ".........2\n",
      ".........3\n",
      ".........4\n",
      ".........5\n",
      ".........6\n",
      ".........7\n",
      ".........8\n",
      ".........9\n",
      "...vars\n",
      "Keras model archive saving:\n",
      "File Name                                             Modified             Size\n",
      "config.json                                    2023-03-23 18:12:10         1799\n",
      "metadata.json                                  2023-03-23 18:12:10           64\n",
      "variables.h5                                   2023-03-23 18:12:10        60616\n"
     ]
    },
    {
     "data": {
      "text/plain": [
       "['C:/Users/Peter/Documents/GitHub/MTG-Land-Recommender/nn_lin_nfe_model.joblib']"
      ]
     },
     "execution_count": 9,
     "metadata": {},
     "output_type": "execute_result"
    }
   ],
   "source": [
    "joblib.dump(model, 'C:/Users/Peter/Documents/GitHub/MTG-Land-Recommender/nn_lin_nfe_model.joblib')"
   ]
  }
 ],
 "metadata": {
  "kernelspec": {
   "display_name": "venv",
   "language": "python",
   "name": "python3"
  },
  "language_info": {
   "codemirror_mode": {
    "name": "ipython",
    "version": 3
   },
   "file_extension": ".py",
   "mimetype": "text/x-python",
   "name": "python",
   "nbconvert_exporter": "python",
   "pygments_lexer": "ipython3",
   "version": "3.10.4"
  },
  "orig_nbformat": 4
 },
 "nbformat": 4,
 "nbformat_minor": 2
}
