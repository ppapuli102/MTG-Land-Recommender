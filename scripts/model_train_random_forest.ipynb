{
 "cells": [
  {
   "attachments": {},
   "cell_type": "markdown",
   "metadata": {},
   "source": [
    "# Random Forest\n",
    "\n",
    "We will build:\n",
    " - Random Forest \n",
    " - XG Boost"
   ]
  },
  {
   "attachments": {},
   "cell_type": "markdown",
   "metadata": {},
   "source": [
    "Start by importing libraries"
   ]
  },
  {
   "cell_type": "code",
   "execution_count": 79,
   "metadata": {},
   "outputs": [],
   "source": [
    "import numpy as np\n",
    "import pandas as pd\n",
    "from sklearn.tree import DecisionTreeClassifier\n",
    "from sklearn.ensemble import RandomForestClassifier\n",
    "from sklearn.model_selection import RandomizedSearchCV\n",
    "from sklearn.model_selection import train_test_split\n",
    "from sklearn.metrics import accuracy_score\n",
    "\n",
    "from xgboost import XGBClassifier\n",
    "import matplotlib.pyplot as plt\n",
    "# plt.style.use('./deeplearning.mplstyle')\n",
    "\n",
    "RANDOM_STATE = 55 ## You will pass it to every sklearn call to ensure reproducibility"
   ]
  },
  {
   "cell_type": "markdown",
   "metadata": {},
   "source": [
    "# 1. Loading the Dataset"
   ]
  },
  {
   "cell_type": "code",
   "execution_count": 64,
   "metadata": {},
   "outputs": [],
   "source": [
    "# Load the dataset using pandas\n",
    "input = pd.read_feather('C:/Users/Peter/Documents/GitHub/MTG-Land-Recommender/data/input.feather')\n",
    "output = pd.read_feather('C:/Users/Peter/Documents/GitHub/MTG-Land-Recommender/data/output.feather')"
   ]
  },
  {
   "cell_type": "code",
   "execution_count": 84,
   "id": "021eef9e",
   "metadata": {},
   "outputs": [
    {
     "data": {
      "text/html": [
       "<div>\n",
       "<style scoped>\n",
       "    .dataframe tbody tr th:only-of-type {\n",
       "        vertical-align: middle;\n",
       "    }\n",
       "\n",
       "    .dataframe tbody tr th {\n",
       "        vertical-align: top;\n",
       "    }\n",
       "\n",
       "    .dataframe thead th {\n",
       "        text-align: right;\n",
       "    }\n",
       "</style>\n",
       "<table border=\"1\" class=\"dataframe\">\n",
       "  <thead>\n",
       "    <tr style=\"text-align: right;\">\n",
       "      <th></th>\n",
       "      <th>number_of_lands</th>\n",
       "    </tr>\n",
       "  </thead>\n",
       "  <tbody>\n",
       "    <tr>\n",
       "      <th>0</th>\n",
       "      <td>33</td>\n",
       "    </tr>\n",
       "    <tr>\n",
       "      <th>1</th>\n",
       "      <td>25</td>\n",
       "    </tr>\n",
       "    <tr>\n",
       "      <th>2</th>\n",
       "      <td>24</td>\n",
       "    </tr>\n",
       "    <tr>\n",
       "      <th>3</th>\n",
       "      <td>24</td>\n",
       "    </tr>\n",
       "    <tr>\n",
       "      <th>4</th>\n",
       "      <td>21</td>\n",
       "    </tr>\n",
       "    <tr>\n",
       "      <th>...</th>\n",
       "      <td>...</td>\n",
       "    </tr>\n",
       "    <tr>\n",
       "      <th>9294</th>\n",
       "      <td>16</td>\n",
       "    </tr>\n",
       "    <tr>\n",
       "      <th>9295</th>\n",
       "      <td>13</td>\n",
       "    </tr>\n",
       "    <tr>\n",
       "      <th>9296</th>\n",
       "      <td>16</td>\n",
       "    </tr>\n",
       "    <tr>\n",
       "      <th>9297</th>\n",
       "      <td>17</td>\n",
       "    </tr>\n",
       "    <tr>\n",
       "      <th>9298</th>\n",
       "      <td>9</td>\n",
       "    </tr>\n",
       "  </tbody>\n",
       "</table>\n",
       "<p>9299 rows × 1 columns</p>\n",
       "</div>"
      ],
      "text/plain": [
       "      number_of_lands\n",
       "0                  33\n",
       "1                  25\n",
       "2                  24\n",
       "3                  24\n",
       "4                  21\n",
       "...               ...\n",
       "9294               16\n",
       "9295               13\n",
       "9296               16\n",
       "9297               17\n",
       "9298                9\n",
       "\n",
       "[9299 rows x 1 columns]"
      ]
     },
     "execution_count": 84,
     "metadata": {},
     "output_type": "execute_result"
    }
   ],
   "source": [
    "output"
   ]
  },
  {
   "attachments": {},
   "cell_type": "markdown",
   "metadata": {},
   "source": [
    "# Splitting the Dataset\n",
    "\n",
    "Split our dataset into train and test datasets. We use the function `train_test_split` from Scikit-learn"
   ]
  },
  {
   "cell_type": "code",
   "execution_count": 65,
   "metadata": {},
   "outputs": [],
   "source": [
    "X_train, X_test, y_train, y_test = train_test_split(input, output, train_size = 0.8, random_state = RANDOM_STATE)"
   ]
  },
  {
   "cell_type": "code",
   "execution_count": 66,
   "metadata": {},
   "outputs": [
    {
     "name": "stdout",
     "output_type": "stream",
     "text": [
      "train samples: 7439\n",
      "test samples: 1860\n"
     ]
    }
   ],
   "source": [
    "print(f'train samples: {len(X_train)}\\ntest samples: {len(X_test)}')"
   ]
  },
  {
   "attachments": {},
   "cell_type": "markdown",
   "metadata": {},
   "source": [
    "# 4. Building the Random Forest"
   ]
  },
  {
   "cell_type": "code",
   "execution_count": 67,
   "metadata": {},
   "outputs": [],
   "source": [
    "min_samples_split_list = [2,10, 30, 50, 100, 200, 300, 700]\n",
    "max_depth_list = [2, 4, 8, 16, 32, 64, None]\n",
    "n_estimators_list = [10,50,100,500]\n",
    "min_samples_leaf_list = [2, 5, 10, 25, 50, 100]"
   ]
  },
  {
   "cell_type": "code",
   "execution_count": 68,
   "metadata": {},
   "outputs": [
    {
     "name": "stderr",
     "output_type": "stream",
     "text": [
      "C:\\Users\\Peter\\AppData\\Local\\Temp\\ipykernel_28908\\3419038554.py:6: DataConversionWarning: A column-vector y was passed when a 1d array was expected. Please change the shape of y to (n_samples,), for example using ravel().\n",
      "  random_state = RANDOM_STATE).fit(X_train,y_train)\n",
      "C:\\Users\\Peter\\AppData\\Local\\Temp\\ipykernel_28908\\3419038554.py:6: DataConversionWarning: A column-vector y was passed when a 1d array was expected. Please change the shape of y to (n_samples,), for example using ravel().\n",
      "  random_state = RANDOM_STATE).fit(X_train,y_train)\n",
      "C:\\Users\\Peter\\AppData\\Local\\Temp\\ipykernel_28908\\3419038554.py:6: DataConversionWarning: A column-vector y was passed when a 1d array was expected. Please change the shape of y to (n_samples,), for example using ravel().\n",
      "  random_state = RANDOM_STATE).fit(X_train,y_train)\n",
      "C:\\Users\\Peter\\AppData\\Local\\Temp\\ipykernel_28908\\3419038554.py:6: DataConversionWarning: A column-vector y was passed when a 1d array was expected. Please change the shape of y to (n_samples,), for example using ravel().\n",
      "  random_state = RANDOM_STATE).fit(X_train,y_train)\n",
      "C:\\Users\\Peter\\AppData\\Local\\Temp\\ipykernel_28908\\3419038554.py:6: DataConversionWarning: A column-vector y was passed when a 1d array was expected. Please change the shape of y to (n_samples,), for example using ravel().\n",
      "  random_state = RANDOM_STATE).fit(X_train,y_train)\n",
      "C:\\Users\\Peter\\AppData\\Local\\Temp\\ipykernel_28908\\3419038554.py:6: DataConversionWarning: A column-vector y was passed when a 1d array was expected. Please change the shape of y to (n_samples,), for example using ravel().\n",
      "  random_state = RANDOM_STATE).fit(X_train,y_train)\n",
      "C:\\Users\\Peter\\AppData\\Local\\Temp\\ipykernel_28908\\3419038554.py:6: DataConversionWarning: A column-vector y was passed when a 1d array was expected. Please change the shape of y to (n_samples,), for example using ravel().\n",
      "  random_state = RANDOM_STATE).fit(X_train,y_train)\n",
      "C:\\Users\\Peter\\AppData\\Local\\Temp\\ipykernel_28908\\3419038554.py:6: DataConversionWarning: A column-vector y was passed when a 1d array was expected. Please change the shape of y to (n_samples,), for example using ravel().\n",
      "  random_state = RANDOM_STATE).fit(X_train,y_train)\n"
     ]
    },
    {
     "data": {
      "text/plain": [
       "<matplotlib.legend.Legend at 0x247900bff70>"
      ]
     },
     "execution_count": 68,
     "metadata": {},
     "output_type": "execute_result"
    },
    {
     "data": {
      "image/png": "[encoded data removed]",
      "text/plain": [
       "<Figure size 640x480 with 1 Axes>"
      ]
     },
     "metadata": {},
     "output_type": "display_data"
    }
   ],
   "source": [
    "accuracy_list_train = []\n",
    "accuracy_list_test = []\n",
    "for min_samples_split in min_samples_split_list:\n",
    "    # You can fit the model at the same time you define it, because the fit function returns the fitted estimator.\n",
    "    model = RandomForestClassifier(min_samples_split = min_samples_split,\n",
    "                                   random_state = RANDOM_STATE).fit(X_train,y_train) \n",
    "    predictions_train = model.predict(X_train) ## The predicted values for the train dataset\n",
    "    predictions_test = model.predict(X_test) ## The predicted values for the test dataset\n",
    "    accuracy_train = accuracy_score(predictions_train,y_train)\n",
    "    accuracy_test = accuracy_score(predictions_test,y_test)\n",
    "    accuracy_list_train.append(accuracy_train)\n",
    "    accuracy_list_test.append(accuracy_test)\n",
    "\n",
    "plt.title('Train x Test metrics')\n",
    "plt.xlabel('min_samples_split')\n",
    "plt.ylabel('accuracy')\n",
    "plt.xticks(ticks = range(len(min_samples_split_list )),labels=min_samples_split_list) \n",
    "plt.plot(accuracy_list_train)\n",
    "plt.plot(accuracy_list_test)\n",
    "plt.legend(['Train','Test'])"
   ]
  },
  {
   "cell_type": "code",
   "execution_count": 69,
   "metadata": {},
   "outputs": [
    {
     "name": "stderr",
     "output_type": "stream",
     "text": [
      "C:\\Users\\Peter\\AppData\\Local\\Temp\\ipykernel_28908\\502522874.py:6: DataConversionWarning: A column-vector y was passed when a 1d array was expected. Please change the shape of y to (n_samples,), for example using ravel().\n",
      "  random_state = RANDOM_STATE).fit(X_train,y_train)\n",
      "C:\\Users\\Peter\\AppData\\Local\\Temp\\ipykernel_28908\\502522874.py:6: DataConversionWarning: A column-vector y was passed when a 1d array was expected. Please change the shape of y to (n_samples,), for example using ravel().\n",
      "  random_state = RANDOM_STATE).fit(X_train,y_train)\n",
      "C:\\Users\\Peter\\AppData\\Local\\Temp\\ipykernel_28908\\502522874.py:6: DataConversionWarning: A column-vector y was passed when a 1d array was expected. Please change the shape of y to (n_samples,), for example using ravel().\n",
      "  random_state = RANDOM_STATE).fit(X_train,y_train)\n",
      "C:\\Users\\Peter\\AppData\\Local\\Temp\\ipykernel_28908\\502522874.py:6: DataConversionWarning: A column-vector y was passed when a 1d array was expected. Please change the shape of y to (n_samples,), for example using ravel().\n",
      "  random_state = RANDOM_STATE).fit(X_train,y_train)\n",
      "C:\\Users\\Peter\\AppData\\Local\\Temp\\ipykernel_28908\\502522874.py:6: DataConversionWarning: A column-vector y was passed when a 1d array was expected. Please change the shape of y to (n_samples,), for example using ravel().\n",
      "  random_state = RANDOM_STATE).fit(X_train,y_train)\n",
      "C:\\Users\\Peter\\AppData\\Local\\Temp\\ipykernel_28908\\502522874.py:6: DataConversionWarning: A column-vector y was passed when a 1d array was expected. Please change the shape of y to (n_samples,), for example using ravel().\n",
      "  random_state = RANDOM_STATE).fit(X_train,y_train)\n",
      "C:\\Users\\Peter\\AppData\\Local\\Temp\\ipykernel_28908\\502522874.py:6: DataConversionWarning: A column-vector y was passed when a 1d array was expected. Please change the shape of y to (n_samples,), for example using ravel().\n",
      "  random_state = RANDOM_STATE).fit(X_train,y_train)\n"
     ]
    },
    {
     "data": {
      "text/plain": [
       "<matplotlib.legend.Legend at 0x2479f614a60>"
      ]
     },
     "execution_count": 69,
     "metadata": {},
     "output_type": "execute_result"
    },
    {
     "data": {
      "image/png": "[encoded data removed]",
      "text/plain": [
       "<Figure size 640x480 with 1 Axes>"
      ]
     },
     "metadata": {},
     "output_type": "display_data"
    }
   ],
   "source": [
    "accuracy_list_train = []\n",
    "accuracy_list_test = []\n",
    "for max_depth in max_depth_list:\n",
    "    # You can fit the model at the same time you define it, because the fit function returns the fitted estimator.\n",
    "    model = RandomForestClassifier(max_depth = max_depth,\n",
    "                                   random_state = RANDOM_STATE).fit(X_train,y_train) \n",
    "    predictions_train = model.predict(X_train) ## The predicted values for the train dataset\n",
    "    predictions_test = model.predict(X_test) ## The predicted values for the test dataset\n",
    "    accuracy_train = accuracy_score(predictions_train,y_train)\n",
    "    accuracy_test = accuracy_score(predictions_test,y_test)\n",
    "    accuracy_list_train.append(accuracy_train)\n",
    "    accuracy_list_test.append(accuracy_test)\n",
    "\n",
    "plt.title('Train x Test metrics')\n",
    "plt.xlabel('max_depth')\n",
    "plt.ylabel('accuracy')\n",
    "plt.xticks(ticks = range(len(max_depth_list )),labels=max_depth_list)\n",
    "plt.plot(accuracy_list_train)\n",
    "plt.plot(accuracy_list_test)\n",
    "plt.legend(['Train','Test'])"
   ]
  },
  {
   "cell_type": "code",
   "execution_count": 70,
   "metadata": {},
   "outputs": [
    {
     "name": "stderr",
     "output_type": "stream",
     "text": [
      "C:\\Users\\Peter\\AppData\\Local\\Temp\\ipykernel_28908\\1359082543.py:6: DataConversionWarning: A column-vector y was passed when a 1d array was expected. Please change the shape of y to (n_samples,), for example using ravel().\n",
      "  random_state = RANDOM_STATE).fit(X_train,y_train)\n",
      "C:\\Users\\Peter\\AppData\\Local\\Temp\\ipykernel_28908\\1359082543.py:6: DataConversionWarning: A column-vector y was passed when a 1d array was expected. Please change the shape of y to (n_samples,), for example using ravel().\n",
      "  random_state = RANDOM_STATE).fit(X_train,y_train)\n",
      "C:\\Users\\Peter\\AppData\\Local\\Temp\\ipykernel_28908\\1359082543.py:6: DataConversionWarning: A column-vector y was passed when a 1d array was expected. Please change the shape of y to (n_samples,), for example using ravel().\n",
      "  random_state = RANDOM_STATE).fit(X_train,y_train)\n",
      "C:\\Users\\Peter\\AppData\\Local\\Temp\\ipykernel_28908\\1359082543.py:6: DataConversionWarning: A column-vector y was passed when a 1d array was expected. Please change the shape of y to (n_samples,), for example using ravel().\n",
      "  random_state = RANDOM_STATE).fit(X_train,y_train)\n"
     ]
    },
    {
     "data": {
      "text/plain": [
       "<matplotlib.legend.Legend at 0x247914f7040>"
      ]
     },
     "execution_count": 70,
     "metadata": {},
     "output_type": "execute_result"
    },
    {
     "data": {
      "image/png": "[encoded data removed]",
      "text/plain": [
       "<Figure size 640x480 with 1 Axes>"
      ]
     },
     "metadata": {},
     "output_type": "display_data"
    }
   ],
   "source": [
    "accuracy_list_train = []\n",
    "accuracy_list_test = []\n",
    "for n_estimators in n_estimators_list:\n",
    "    # You can fit the model at the same time you define it, because the fit function returns the fitted estimator.\n",
    "    model = RandomForestClassifier(n_estimators = n_estimators,\n",
    "                                   random_state = RANDOM_STATE).fit(X_train,y_train) \n",
    "    predictions_train = model.predict(X_train) ## The predicted values for the train dataset\n",
    "    predictions_test = model.predict(X_test) ## The predicted values for the test dataset\n",
    "    accuracy_train = accuracy_score(predictions_train,y_train)\n",
    "    accuracy_test = accuracy_score(predictions_test,y_test)\n",
    "    accuracy_list_train.append(accuracy_train)\n",
    "    accuracy_list_test.append(accuracy_test)\n",
    "\n",
    "plt.title('Train x Test metrics')\n",
    "plt.xlabel('n_estimators')\n",
    "plt.ylabel('accuracy')\n",
    "plt.xticks(ticks = range(len(n_estimators_list )),labels=n_estimators_list)\n",
    "plt.plot(accuracy_list_train)\n",
    "plt.plot(accuracy_list_test)\n",
    "plt.legend(['Train','Test'])"
   ]
  },
  {
   "cell_type": "code",
   "execution_count": 71,
   "id": "d8562205",
   "metadata": {},
   "outputs": [
    {
     "name": "stderr",
     "output_type": "stream",
     "text": [
      "C:\\Users\\Peter\\AppData\\Local\\Temp\\ipykernel_28908\\24887165.py:6: DataConversionWarning: A column-vector y was passed when a 1d array was expected. Please change the shape of y to (n_samples,), for example using ravel().\n",
      "  random_state = RANDOM_STATE).fit(X_train,y_train)\n",
      "C:\\Users\\Peter\\AppData\\Local\\Temp\\ipykernel_28908\\24887165.py:6: DataConversionWarning: A column-vector y was passed when a 1d array was expected. Please change the shape of y to (n_samples,), for example using ravel().\n",
      "  random_state = RANDOM_STATE).fit(X_train,y_train)\n",
      "C:\\Users\\Peter\\AppData\\Local\\Temp\\ipykernel_28908\\24887165.py:6: DataConversionWarning: A column-vector y was passed when a 1d array was expected. Please change the shape of y to (n_samples,), for example using ravel().\n",
      "  random_state = RANDOM_STATE).fit(X_train,y_train)\n",
      "C:\\Users\\Peter\\AppData\\Local\\Temp\\ipykernel_28908\\24887165.py:6: DataConversionWarning: A column-vector y was passed when a 1d array was expected. Please change the shape of y to (n_samples,), for example using ravel().\n",
      "  random_state = RANDOM_STATE).fit(X_train,y_train)\n",
      "C:\\Users\\Peter\\AppData\\Local\\Temp\\ipykernel_28908\\24887165.py:6: DataConversionWarning: A column-vector y was passed when a 1d array was expected. Please change the shape of y to (n_samples,), for example using ravel().\n",
      "  random_state = RANDOM_STATE).fit(X_train,y_train)\n",
      "C:\\Users\\Peter\\AppData\\Local\\Temp\\ipykernel_28908\\24887165.py:6: DataConversionWarning: A column-vector y was passed when a 1d array was expected. Please change the shape of y to (n_samples,), for example using ravel().\n",
      "  random_state = RANDOM_STATE).fit(X_train,y_train)\n"
     ]
    },
    {
     "data": {
      "text/plain": [
       "<matplotlib.legend.Legend at 0x247915343d0>"
      ]
     },
     "execution_count": 71,
     "metadata": {},
     "output_type": "execute_result"
    },
    {
     "data": {
      "image/png": "[encoded data removed]",
      "text/plain": [
       "<Figure size 640x480 with 1 Axes>"
      ]
     },
     "metadata": {},
     "output_type": "display_data"
    }
   ],
   "source": [
    "accuracy_list_train = []\n",
    "accuracy_list_test = []\n",
    "for min_samples_leaf in min_samples_leaf_list:\n",
    "    # You can fit the model at the same time you define it, because the fit function returns the fitted estimator.\n",
    "    model = RandomForestClassifier(min_samples_leaf = min_samples_leaf,\n",
    "                                   random_state = RANDOM_STATE).fit(X_train,y_train) \n",
    "    predictions_train = model.predict(X_train) ## The predicted values for the train dataset\n",
    "    predictions_test = model.predict(X_test) ## The predicted values for the test dataset\n",
    "    accuracy_train = accuracy_score(predictions_train,y_train)\n",
    "    accuracy_test = accuracy_score(predictions_test,y_test)\n",
    "    accuracy_list_train.append(accuracy_train)\n",
    "    accuracy_list_test.append(accuracy_test)\n",
    "\n",
    "plt.title('Train x Test metrics')\n",
    "plt.xlabel('min_samples_leaf')\n",
    "plt.ylabel('accuracy')\n",
    "plt.xticks(ticks = range(len(min_samples_leaf_list )),labels=min_samples_leaf_list)\n",
    "plt.plot(accuracy_list_train)\n",
    "plt.plot(accuracy_list_test)\n",
    "plt.legend(['Train','Test'])"
   ]
  },
  {
   "attachments": {},
   "cell_type": "markdown",
   "id": "f341b847",
   "metadata": {},
   "source": [
    "Let's then fit a random forest with the following parameters:\n",
    "\n",
    " - max_depth: 32\n",
    " - min_samples_split: 2\n",
    " - n_estimators: 100"
   ]
  },
  {
   "cell_type": "code",
   "execution_count": 80,
   "id": "a957fae0",
   "metadata": {},
   "outputs": [
    {
     "name": "stderr",
     "output_type": "stream",
     "text": [
      "c:\\Users\\Peter\\Documents\\GitHub\\MTG-Land-Recommender\\venv\\lib\\site-packages\\sklearn\\model_selection\\_split.py:700: UserWarning: The least populated class in y has only 4 members, which is less than n_splits=5.\n",
      "  warnings.warn(\n",
      "c:\\Users\\Peter\\Documents\\GitHub\\MTG-Land-Recommender\\venv\\lib\\site-packages\\sklearn\\model_selection\\_search.py:909: DataConversionWarning: A column-vector y was passed when a 1d array was expected. Please change the shape of y to (n_samples,), for example using ravel().\n",
      "  self.best_estimator_.fit(X, y, **fit_params)\n"
     ]
    },
    {
     "name": "stdout",
     "output_type": "stream",
     "text": [
      "Best parameters: {'n_estimators': 200, 'min_samples_split': 2, 'min_samples_leaf': 1, 'max_depth': 40}\n"
     ]
    },
    {
     "name": "stderr",
     "output_type": "stream",
     "text": [
      "C:\\Users\\Peter\\AppData\\Local\\Temp\\ipykernel_28908\\2026374909.py:26: DataConversionWarning: A column-vector y was passed when a 1d array was expected. Please change the shape of y to (n_samples,), for example using ravel().\n",
      "  best_rf.fit(X_train, y_train)\n"
     ]
    },
    {
     "name": "stdout",
     "output_type": "stream",
     "text": [
      "Test set accuracy: 0.6102150537634409\n"
     ]
    }
   ],
   "source": [
    "# Define the hyperparameter search space\n",
    "param_dist = {\n",
    "    'n_estimators': [10, 50, 100, 200, 500],\n",
    "    'max_depth': [None, 10, 20, 30, 40, 50],\n",
    "    'min_samples_split': [2, 5, 10, 20],\n",
    "    'min_samples_leaf': [1, 2, 4, 8]\n",
    "}\n",
    "\n",
    "# Initialize the random forest model\n",
    "rf = RandomForestClassifier(random_state=42)\n",
    "\n",
    "# Initialize the RandomizedSearchCV\n",
    "random_search = RandomizedSearchCV(\n",
    "    rf, param_distributions=param_dist, n_iter=50, cv=5, n_jobs=-1, random_state=42)\n",
    "\n",
    "# Fit the RandomizedSearchCV to the data\n",
    "random_search.fit(X_train, y_train)\n",
    "\n",
    "# Get the best parameters\n",
    "best_params = random_search.best_params_\n",
    "\n",
    "print(\"Best parameters:\", best_params)\n",
    "\n",
    "# Train the random forest model with the best parameters\n",
    "best_rf = RandomForestClassifier(**best_params, random_state=42)\n",
    "best_rf.fit(X_train, y_train)\n",
    "\n",
    "# Evaluate the model on the test set\n",
    "score = best_rf.score(X_test, y_test)\n",
    "print(\"Test set accuracy:\", score)"
   ]
  },
  {
   "cell_type": "code",
   "execution_count": 76,
   "metadata": {},
   "outputs": [
    {
     "name": "stderr",
     "output_type": "stream",
     "text": [
      "C:\\Users\\Peter\\AppData\\Local\\Temp\\ipykernel_28908\\9762461.py:3: DataConversionWarning: A column-vector y was passed when a 1d array was expected. Please change the shape of y to (n_samples,), for example using ravel().\n",
      "  min_samples_split = 2).fit(X_train,y_train)\n"
     ]
    }
   ],
   "source": [
    "random_forest_model = RandomForestClassifier(n_estimators = 500,\n",
    "                                             max_depth = 32, \n",
    "                                             min_samples_split = 2).fit(X_train,y_train)"
   ]
  },
  {
   "cell_type": "code",
   "execution_count": 77,
   "metadata": {},
   "outputs": [
    {
     "name": "stdout",
     "output_type": "stream",
     "text": [
      "Metrics train:\n",
      "\tAccuracy score: 0.9860\n",
      "Metrics test:\n",
      "\tAccuracy score: 0.6091\n"
     ]
    }
   ],
   "source": [
    "print(f\"Metrics train:\\n\\tAccuracy score: {accuracy_score(random_forest_model.predict(X_train),y_train):.4f}\\nMetrics test:\\n\\tAccuracy score: {accuracy_score(random_forest_model.predict(X_test),y_test):.4f}\")"
   ]
  },
  {
   "cell_type": "markdown",
   "metadata": {},
   "source": [
    "## 4.3 XGBoost\n",
    "\n",
    "Now, the last model you will test in this lab is the Gradient Boosting model, called XGBoost. As you've seen in the lectures, the boosting methods train several trees, but instead of them being uncorrelated to each other, now the trees are fitted subsequently to minimize the error. \n",
    "\n",
    "The parameters that this model comprises is the same as the parameters for any decision tree, plus some others, such as the learning rate, which is the size of the step on the Gradient Descent method that the XGBoost uses internally to minimize the error on each train step.\n",
    "\n",
    "One interesting thing about the XGBoost is that it allows, during the fit, to pass a list evaluation datasets of the form `(X_val,y_val)`, where on each iteration, it measures the cost (or evaluation metric) on the evaluation datasets so that once the cost (or metric) stops to descrease for a number of rounds (called early_stopping_rounds), the training will stop. This is how we can automatically control how many estimators is enough, and how we can avoid overfitting due to too many estimators.\n",
    "\n",
    "First, let's define a subset of our training set (we should not use the test set here)."
   ]
  },
  {
   "cell_type": "code",
   "execution_count": 29,
   "metadata": {},
   "outputs": [],
   "source": [
    "n = int(len(X_train)*0.8) ## Let's use 80% to train and 20% to eval"
   ]
  },
  {
   "cell_type": "code",
   "execution_count": 30,
   "metadata": {},
   "outputs": [],
   "source": [
    "X_train_fit, X_train_eval, y_train_fit, y_train_eval = X_train[:n], X_train[n:], y_train[:n], y_train[n:]"
   ]
  },
  {
   "cell_type": "markdown",
   "metadata": {},
   "source": [
    "You can then set a large number of estimators, because you can stop if the cost function stops decreasing."
   ]
  },
  {
   "cell_type": "code",
   "execution_count": 31,
   "metadata": {},
   "outputs": [
    {
     "name": "stdout",
     "output_type": "stream",
     "text": [
      "[0]\tvalidation_0-mlogloss:3.45350\n",
      "[1]\tvalidation_0-mlogloss:3.27211\n",
      "[2]\tvalidation_0-mlogloss:3.12754\n"
     ]
    },
    {
     "name": "stderr",
     "output_type": "stream",
     "text": [
      "c:\\Users\\Peter\\Documents\\GitHub\\MTG-Land-Recommender\\venv\\lib\\site-packages\\xgboost\\sklearn.py:835: UserWarning: `early_stopping_rounds` in `fit` method is deprecated for better compatibility with scikit-learn, use `early_stopping_rounds` in constructor or`set_params` instead.\n",
      "  warnings.warn(\n"
     ]
    },
    {
     "name": "stdout",
     "output_type": "stream",
     "text": [
      "[3]\tvalidation_0-mlogloss:3.00761\n",
      "[4]\tvalidation_0-mlogloss:2.91181\n",
      "[5]\tvalidation_0-mlogloss:2.82442\n",
      "[6]\tvalidation_0-mlogloss:2.74699\n",
      "[7]\tvalidation_0-mlogloss:2.67675\n",
      "[8]\tvalidation_0-mlogloss:2.61993\n",
      "[9]\tvalidation_0-mlogloss:2.56507\n",
      "[10]\tvalidation_0-mlogloss:2.51417\n",
      "[11]\tvalidation_0-mlogloss:2.46879\n",
      "[12]\tvalidation_0-mlogloss:2.42806\n",
      "[13]\tvalidation_0-mlogloss:2.38699\n",
      "[14]\tvalidation_0-mlogloss:2.35526\n",
      "[15]\tvalidation_0-mlogloss:2.32074\n",
      "[16]\tvalidation_0-mlogloss:2.28909\n",
      "[17]\tvalidation_0-mlogloss:2.26108\n",
      "[18]\tvalidation_0-mlogloss:2.23493\n",
      "[19]\tvalidation_0-mlogloss:2.20925\n",
      "[20]\tvalidation_0-mlogloss:2.18459\n",
      "[21]\tvalidation_0-mlogloss:2.16306\n",
      "[22]\tvalidation_0-mlogloss:2.14119\n",
      "[23]\tvalidation_0-mlogloss:2.12231\n",
      "[24]\tvalidation_0-mlogloss:2.10473\n",
      "[25]\tvalidation_0-mlogloss:2.08759\n",
      "[26]\tvalidation_0-mlogloss:2.07235\n",
      "[27]\tvalidation_0-mlogloss:2.05686\n",
      "[28]\tvalidation_0-mlogloss:2.04245\n",
      "[29]\tvalidation_0-mlogloss:2.02676\n",
      "[30]\tvalidation_0-mlogloss:2.01468\n",
      "[31]\tvalidation_0-mlogloss:2.00401\n",
      "[32]\tvalidation_0-mlogloss:1.99252\n",
      "[33]\tvalidation_0-mlogloss:1.98177\n",
      "[34]\tvalidation_0-mlogloss:1.97167\n",
      "[35]\tvalidation_0-mlogloss:1.96132\n",
      "[36]\tvalidation_0-mlogloss:1.95051\n",
      "[37]\tvalidation_0-mlogloss:1.94107\n",
      "[38]\tvalidation_0-mlogloss:1.93233\n",
      "[39]\tvalidation_0-mlogloss:1.92309\n",
      "[40]\tvalidation_0-mlogloss:1.91316\n",
      "[41]\tvalidation_0-mlogloss:1.90533\n",
      "[42]\tvalidation_0-mlogloss:1.89836\n",
      "[43]\tvalidation_0-mlogloss:1.89157\n",
      "[44]\tvalidation_0-mlogloss:1.88446\n",
      "[45]\tvalidation_0-mlogloss:1.87724\n",
      "[46]\tvalidation_0-mlogloss:1.87133\n",
      "[47]\tvalidation_0-mlogloss:1.86408\n",
      "[48]\tvalidation_0-mlogloss:1.85696\n",
      "[49]\tvalidation_0-mlogloss:1.85126\n",
      "[50]\tvalidation_0-mlogloss:1.84562\n",
      "[51]\tvalidation_0-mlogloss:1.84042\n",
      "[52]\tvalidation_0-mlogloss:1.83484\n",
      "[53]\tvalidation_0-mlogloss:1.82956\n",
      "[54]\tvalidation_0-mlogloss:1.82424\n",
      "[55]\tvalidation_0-mlogloss:1.82028\n",
      "[56]\tvalidation_0-mlogloss:1.81548\n",
      "[57]\tvalidation_0-mlogloss:1.81110\n",
      "[58]\tvalidation_0-mlogloss:1.80776\n",
      "[59]\tvalidation_0-mlogloss:1.80411\n",
      "[60]\tvalidation_0-mlogloss:1.80088\n",
      "[61]\tvalidation_0-mlogloss:1.79570\n",
      "[62]\tvalidation_0-mlogloss:1.79205\n",
      "[63]\tvalidation_0-mlogloss:1.78776\n",
      "[64]\tvalidation_0-mlogloss:1.78383\n",
      "[65]\tvalidation_0-mlogloss:1.77990\n",
      "[66]\tvalidation_0-mlogloss:1.77618\n",
      "[67]\tvalidation_0-mlogloss:1.77202\n",
      "[68]\tvalidation_0-mlogloss:1.76899\n",
      "[69]\tvalidation_0-mlogloss:1.76486\n",
      "[70]\tvalidation_0-mlogloss:1.76162\n",
      "[71]\tvalidation_0-mlogloss:1.75843\n",
      "[72]\tvalidation_0-mlogloss:1.75576\n",
      "[73]\tvalidation_0-mlogloss:1.75319\n",
      "[74]\tvalidation_0-mlogloss:1.75007\n",
      "[75]\tvalidation_0-mlogloss:1.74817\n",
      "[76]\tvalidation_0-mlogloss:1.74511\n",
      "[77]\tvalidation_0-mlogloss:1.74202\n",
      "[78]\tvalidation_0-mlogloss:1.73997\n",
      "[79]\tvalidation_0-mlogloss:1.73684\n",
      "[80]\tvalidation_0-mlogloss:1.73414\n",
      "[81]\tvalidation_0-mlogloss:1.73180\n",
      "[82]\tvalidation_0-mlogloss:1.72952\n",
      "[83]\tvalidation_0-mlogloss:1.72677\n",
      "[84]\tvalidation_0-mlogloss:1.72442\n",
      "[85]\tvalidation_0-mlogloss:1.72265\n",
      "[86]\tvalidation_0-mlogloss:1.72105\n",
      "[87]\tvalidation_0-mlogloss:1.71947\n",
      "[88]\tvalidation_0-mlogloss:1.71751\n",
      "[89]\tvalidation_0-mlogloss:1.71528\n",
      "[90]\tvalidation_0-mlogloss:1.71383\n",
      "[91]\tvalidation_0-mlogloss:1.71205\n",
      "[92]\tvalidation_0-mlogloss:1.71006\n",
      "[93]\tvalidation_0-mlogloss:1.70872\n",
      "[94]\tvalidation_0-mlogloss:1.70782\n",
      "[95]\tvalidation_0-mlogloss:1.70640\n",
      "[96]\tvalidation_0-mlogloss:1.70560\n",
      "[97]\tvalidation_0-mlogloss:1.70481\n",
      "[98]\tvalidation_0-mlogloss:1.70352\n",
      "[99]\tvalidation_0-mlogloss:1.70281\n",
      "[100]\tvalidation_0-mlogloss:1.70199\n",
      "[101]\tvalidation_0-mlogloss:1.70095\n",
      "[102]\tvalidation_0-mlogloss:1.70016\n",
      "[103]\tvalidation_0-mlogloss:1.69860\n",
      "[104]\tvalidation_0-mlogloss:1.69620\n",
      "[105]\tvalidation_0-mlogloss:1.69529\n",
      "[106]\tvalidation_0-mlogloss:1.69385\n",
      "[107]\tvalidation_0-mlogloss:1.69257\n",
      "[108]\tvalidation_0-mlogloss:1.69207\n",
      "[109]\tvalidation_0-mlogloss:1.69139\n",
      "[110]\tvalidation_0-mlogloss:1.68895\n",
      "[111]\tvalidation_0-mlogloss:1.68746\n",
      "[112]\tvalidation_0-mlogloss:1.68676\n",
      "[113]\tvalidation_0-mlogloss:1.68624\n",
      "[114]\tvalidation_0-mlogloss:1.68558\n",
      "[115]\tvalidation_0-mlogloss:1.68423\n",
      "[116]\tvalidation_0-mlogloss:1.68329\n",
      "[117]\tvalidation_0-mlogloss:1.68183\n",
      "[118]\tvalidation_0-mlogloss:1.68144\n",
      "[119]\tvalidation_0-mlogloss:1.68061\n",
      "[120]\tvalidation_0-mlogloss:1.67991\n",
      "[121]\tvalidation_0-mlogloss:1.67954\n",
      "[122]\tvalidation_0-mlogloss:1.67839\n",
      "[123]\tvalidation_0-mlogloss:1.67749\n",
      "[124]\tvalidation_0-mlogloss:1.67613\n",
      "[125]\tvalidation_0-mlogloss:1.67521\n",
      "[126]\tvalidation_0-mlogloss:1.67335\n",
      "[127]\tvalidation_0-mlogloss:1.67337\n",
      "[128]\tvalidation_0-mlogloss:1.67208\n",
      "[129]\tvalidation_0-mlogloss:1.67078\n",
      "[130]\tvalidation_0-mlogloss:1.66992\n",
      "[131]\tvalidation_0-mlogloss:1.66885\n",
      "[132]\tvalidation_0-mlogloss:1.66809\n",
      "[133]\tvalidation_0-mlogloss:1.66744\n",
      "[134]\tvalidation_0-mlogloss:1.66656\n",
      "[135]\tvalidation_0-mlogloss:1.66547\n",
      "[136]\tvalidation_0-mlogloss:1.66432\n",
      "[137]\tvalidation_0-mlogloss:1.66356\n",
      "[138]\tvalidation_0-mlogloss:1.66234\n",
      "[139]\tvalidation_0-mlogloss:1.66159\n",
      "[140]\tvalidation_0-mlogloss:1.66068\n",
      "[141]\tvalidation_0-mlogloss:1.66052\n",
      "[142]\tvalidation_0-mlogloss:1.66025\n",
      "[143]\tvalidation_0-mlogloss:1.65970\n",
      "[144]\tvalidation_0-mlogloss:1.65884\n",
      "[145]\tvalidation_0-mlogloss:1.65796\n",
      "[146]\tvalidation_0-mlogloss:1.65714\n",
      "[147]\tvalidation_0-mlogloss:1.65641\n",
      "[148]\tvalidation_0-mlogloss:1.65571\n",
      "[149]\tvalidation_0-mlogloss:1.65554\n",
      "[150]\tvalidation_0-mlogloss:1.65543\n",
      "[151]\tvalidation_0-mlogloss:1.65505\n",
      "[152]\tvalidation_0-mlogloss:1.65427\n",
      "[153]\tvalidation_0-mlogloss:1.65356\n",
      "[154]\tvalidation_0-mlogloss:1.65405\n",
      "[155]\tvalidation_0-mlogloss:1.65381\n",
      "[156]\tvalidation_0-mlogloss:1.65300\n",
      "[157]\tvalidation_0-mlogloss:1.65295\n",
      "[158]\tvalidation_0-mlogloss:1.65279\n",
      "[159]\tvalidation_0-mlogloss:1.65313\n",
      "[160]\tvalidation_0-mlogloss:1.65270\n",
      "[161]\tvalidation_0-mlogloss:1.65284\n",
      "[162]\tvalidation_0-mlogloss:1.65302\n",
      "[163]\tvalidation_0-mlogloss:1.65272\n",
      "[164]\tvalidation_0-mlogloss:1.65275\n",
      "[165]\tvalidation_0-mlogloss:1.65288\n",
      "[166]\tvalidation_0-mlogloss:1.65312\n",
      "[167]\tvalidation_0-mlogloss:1.65260\n",
      "[168]\tvalidation_0-mlogloss:1.65212\n",
      "[169]\tvalidation_0-mlogloss:1.65147\n",
      "[170]\tvalidation_0-mlogloss:1.65048\n",
      "[171]\tvalidation_0-mlogloss:1.64977\n",
      "[172]\tvalidation_0-mlogloss:1.65002\n",
      "[173]\tvalidation_0-mlogloss:1.64901\n",
      "[174]\tvalidation_0-mlogloss:1.64846\n",
      "[175]\tvalidation_0-mlogloss:1.64776\n",
      "[176]\tvalidation_0-mlogloss:1.64773\n",
      "[177]\tvalidation_0-mlogloss:1.64714\n",
      "[178]\tvalidation_0-mlogloss:1.64643\n",
      "[179]\tvalidation_0-mlogloss:1.64657\n",
      "[180]\tvalidation_0-mlogloss:1.64654\n",
      "[181]\tvalidation_0-mlogloss:1.64597\n",
      "[182]\tvalidation_0-mlogloss:1.64520\n",
      "[183]\tvalidation_0-mlogloss:1.64514\n",
      "[184]\tvalidation_0-mlogloss:1.64476\n",
      "[185]\tvalidation_0-mlogloss:1.64355\n",
      "[186]\tvalidation_0-mlogloss:1.64295\n",
      "[187]\tvalidation_0-mlogloss:1.64222\n",
      "[188]\tvalidation_0-mlogloss:1.64165\n",
      "[189]\tvalidation_0-mlogloss:1.64151\n",
      "[190]\tvalidation_0-mlogloss:1.64076\n",
      "[191]\tvalidation_0-mlogloss:1.64023\n",
      "[192]\tvalidation_0-mlogloss:1.63968\n",
      "[193]\tvalidation_0-mlogloss:1.63919\n",
      "[194]\tvalidation_0-mlogloss:1.63860\n",
      "[195]\tvalidation_0-mlogloss:1.63744\n",
      "[196]\tvalidation_0-mlogloss:1.63716\n",
      "[197]\tvalidation_0-mlogloss:1.63671\n",
      "[198]\tvalidation_0-mlogloss:1.63591\n",
      "[199]\tvalidation_0-mlogloss:1.63606\n",
      "[200]\tvalidation_0-mlogloss:1.63563\n",
      "[201]\tvalidation_0-mlogloss:1.63522\n",
      "[202]\tvalidation_0-mlogloss:1.63493\n",
      "[203]\tvalidation_0-mlogloss:1.63478\n",
      "[204]\tvalidation_0-mlogloss:1.63436\n",
      "[205]\tvalidation_0-mlogloss:1.63371\n",
      "[206]\tvalidation_0-mlogloss:1.63384\n",
      "[207]\tvalidation_0-mlogloss:1.63336\n",
      "[208]\tvalidation_0-mlogloss:1.63369\n",
      "[209]\tvalidation_0-mlogloss:1.63290\n",
      "[210]\tvalidation_0-mlogloss:1.63266\n",
      "[211]\tvalidation_0-mlogloss:1.63181\n",
      "[212]\tvalidation_0-mlogloss:1.63148\n",
      "[213]\tvalidation_0-mlogloss:1.63166\n",
      "[214]\tvalidation_0-mlogloss:1.63117\n",
      "[215]\tvalidation_0-mlogloss:1.63197\n",
      "[216]\tvalidation_0-mlogloss:1.63176\n",
      "[217]\tvalidation_0-mlogloss:1.63177\n",
      "[218]\tvalidation_0-mlogloss:1.63146\n",
      "[219]\tvalidation_0-mlogloss:1.63121\n",
      "[220]\tvalidation_0-mlogloss:1.63104\n",
      "[221]\tvalidation_0-mlogloss:1.63064\n",
      "[222]\tvalidation_0-mlogloss:1.63033\n",
      "[223]\tvalidation_0-mlogloss:1.63053\n",
      "[224]\tvalidation_0-mlogloss:1.63033\n",
      "[225]\tvalidation_0-mlogloss:1.63046\n",
      "[226]\tvalidation_0-mlogloss:1.63014\n",
      "[227]\tvalidation_0-mlogloss:1.63043\n",
      "[228]\tvalidation_0-mlogloss:1.63077\n",
      "[229]\tvalidation_0-mlogloss:1.63028\n",
      "[230]\tvalidation_0-mlogloss:1.63076\n",
      "[231]\tvalidation_0-mlogloss:1.63052\n",
      "[232]\tvalidation_0-mlogloss:1.62985\n",
      "[233]\tvalidation_0-mlogloss:1.62988\n",
      "[234]\tvalidation_0-mlogloss:1.62915\n",
      "[235]\tvalidation_0-mlogloss:1.62904\n",
      "[236]\tvalidation_0-mlogloss:1.62912\n",
      "[237]\tvalidation_0-mlogloss:1.62903\n",
      "[238]\tvalidation_0-mlogloss:1.62880\n",
      "[239]\tvalidation_0-mlogloss:1.62835\n",
      "[240]\tvalidation_0-mlogloss:1.62820\n",
      "[241]\tvalidation_0-mlogloss:1.62788\n",
      "[242]\tvalidation_0-mlogloss:1.62722\n",
      "[243]\tvalidation_0-mlogloss:1.62720\n",
      "[244]\tvalidation_0-mlogloss:1.62677\n",
      "[245]\tvalidation_0-mlogloss:1.62700\n",
      "[246]\tvalidation_0-mlogloss:1.62704\n",
      "[247]\tvalidation_0-mlogloss:1.62688\n",
      "[248]\tvalidation_0-mlogloss:1.62704\n",
      "[249]\tvalidation_0-mlogloss:1.62732\n",
      "[250]\tvalidation_0-mlogloss:1.62758\n",
      "[251]\tvalidation_0-mlogloss:1.62729\n",
      "[252]\tvalidation_0-mlogloss:1.62723\n",
      "[253]\tvalidation_0-mlogloss:1.62687\n",
      "[254]\tvalidation_0-mlogloss:1.62686\n",
      "[255]\tvalidation_0-mlogloss:1.62691\n",
      "[256]\tvalidation_0-mlogloss:1.62707\n",
      "[257]\tvalidation_0-mlogloss:1.62748\n",
      "[258]\tvalidation_0-mlogloss:1.62790\n",
      "[259]\tvalidation_0-mlogloss:1.62839\n",
      "[260]\tvalidation_0-mlogloss:1.62840\n",
      "[261]\tvalidation_0-mlogloss:1.62835\n",
      "[262]\tvalidation_0-mlogloss:1.62859\n",
      "[263]\tvalidation_0-mlogloss:1.62867\n",
      "[264]\tvalidation_0-mlogloss:1.62857\n",
      "[265]\tvalidation_0-mlogloss:1.62853\n",
      "[266]\tvalidation_0-mlogloss:1.62876\n",
      "[267]\tvalidation_0-mlogloss:1.62923\n",
      "[268]\tvalidation_0-mlogloss:1.62961\n",
      "[269]\tvalidation_0-mlogloss:1.63019\n",
      "[270]\tvalidation_0-mlogloss:1.63040\n",
      "[271]\tvalidation_0-mlogloss:1.63035\n",
      "[272]\tvalidation_0-mlogloss:1.63006\n",
      "[273]\tvalidation_0-mlogloss:1.63069\n",
      "[274]\tvalidation_0-mlogloss:1.63087\n",
      "[275]\tvalidation_0-mlogloss:1.63113\n",
      "[276]\tvalidation_0-mlogloss:1.63116\n",
      "[277]\tvalidation_0-mlogloss:1.63139\n",
      "[278]\tvalidation_0-mlogloss:1.63135\n",
      "[279]\tvalidation_0-mlogloss:1.63197\n",
      "[280]\tvalidation_0-mlogloss:1.63230\n",
      "[281]\tvalidation_0-mlogloss:1.63247\n",
      "[282]\tvalidation_0-mlogloss:1.63231\n",
      "[283]\tvalidation_0-mlogloss:1.63266\n",
      "[284]\tvalidation_0-mlogloss:1.63271\n",
      "[285]\tvalidation_0-mlogloss:1.63251\n",
      "[286]\tvalidation_0-mlogloss:1.63294\n",
      "[287]\tvalidation_0-mlogloss:1.63331\n",
      "[288]\tvalidation_0-mlogloss:1.63338\n",
      "[289]\tvalidation_0-mlogloss:1.63380\n",
      "[290]\tvalidation_0-mlogloss:1.63388\n",
      "[291]\tvalidation_0-mlogloss:1.63393\n",
      "[292]\tvalidation_0-mlogloss:1.63401\n",
      "[293]\tvalidation_0-mlogloss:1.63459\n"
     ]
    },
    {
     "data": {
      "text/html": [
       "<style>#sk-container-id-1 {color: black;background-color: white;}#sk-container-id-1 pre{padding: 0;}#sk-container-id-1 div.sk-toggleable {background-color: white;}#sk-container-id-1 label.sk-toggleable__label {cursor: pointer;display: block;width: 100%;margin-bottom: 0;padding: 0.3em;box-sizing: border-box;text-align: center;}#sk-container-id-1 label.sk-toggleable__label-arrow:before {content: \"▸\";float: left;margin-right: 0.25em;color: #696969;}#sk-container-id-1 label.sk-toggleable__label-arrow:hover:before {color: black;}#sk-container-id-1 div.sk-estimator:hover label.sk-toggleable__label-arrow:before {color: black;}#sk-container-id-1 div.sk-toggleable__content {max-height: 0;max-width: 0;overflow: hidden;text-align: left;background-color: #f0f8ff;}#sk-container-id-1 div.sk-toggleable__content pre {margin: 0.2em;color: black;border-radius: 0.25em;background-color: #f0f8ff;}#sk-container-id-1 input.sk-toggleable__control:checked~div.sk-toggleable__content {max-height: 200px;max-width: 100%;overflow: auto;}#sk-container-id-1 input.sk-toggleable__control:checked~label.sk-toggleable__label-arrow:before {content: \"▾\";}#sk-container-id-1 div.sk-estimator input.sk-toggleable__control:checked~label.sk-toggleable__label {background-color: #d4ebff;}#sk-container-id-1 div.sk-label input.sk-toggleable__control:checked~label.sk-toggleable__label {background-color: #d4ebff;}#sk-container-id-1 input.sk-hidden--visually {border: 0;clip: rect(1px 1px 1px 1px);clip: rect(1px, 1px, 1px, 1px);height: 1px;margin: -1px;overflow: hidden;padding: 0;position: absolute;width: 1px;}#sk-container-id-1 div.sk-estimator {font-family: monospace;background-color: #f0f8ff;border: 1px dotted black;border-radius: 0.25em;box-sizing: border-box;margin-bottom: 0.5em;}#sk-container-id-1 div.sk-estimator:hover {background-color: #d4ebff;}#sk-container-id-1 div.sk-parallel-item::after {content: \"\";width: 100%;border-bottom: 1px solid gray;flex-grow: 1;}#sk-container-id-1 div.sk-label:hover label.sk-toggleable__label {background-color: #d4ebff;}#sk-container-id-1 div.sk-serial::before {content: \"\";position: absolute;border-left: 1px solid gray;box-sizing: border-box;top: 0;bottom: 0;left: 50%;z-index: 0;}#sk-container-id-1 div.sk-serial {display: flex;flex-direction: column;align-items: center;background-color: white;padding-right: 0.2em;padding-left: 0.2em;position: relative;}#sk-container-id-1 div.sk-item {position: relative;z-index: 1;}#sk-container-id-1 div.sk-parallel {display: flex;align-items: stretch;justify-content: center;background-color: white;position: relative;}#sk-container-id-1 div.sk-item::before, #sk-container-id-1 div.sk-parallel-item::before {content: \"\";position: absolute;border-left: 1px solid gray;box-sizing: border-box;top: 0;bottom: 0;left: 50%;z-index: -1;}#sk-container-id-1 div.sk-parallel-item {display: flex;flex-direction: column;z-index: 1;position: relative;background-color: white;}#sk-container-id-1 div.sk-parallel-item:first-child::after {align-self: flex-end;width: 50%;}#sk-container-id-1 div.sk-parallel-item:last-child::after {align-self: flex-start;width: 50%;}#sk-container-id-1 div.sk-parallel-item:only-child::after {width: 0;}#sk-container-id-1 div.sk-dashed-wrapped {border: 1px dashed gray;margin: 0 0.4em 0.5em 0.4em;box-sizing: border-box;padding-bottom: 0.4em;background-color: white;}#sk-container-id-1 div.sk-label label {font-family: monospace;font-weight: bold;display: inline-block;line-height: 1.2em;}#sk-container-id-1 div.sk-label-container {text-align: center;}#sk-container-id-1 div.sk-container {/* jupyter's `normalize.less` sets `[hidden] { display: none; }` but bootstrap.min.css set `[hidden] { display: none !important; }` so we also need the `!important` here to be able to override the default hidden behavior on the sphinx rendered scikit-learn.org. See: https://github.com/scikit-learn/scikit-learn/issues/21755 */display: inline-block !important;position: relative;}#sk-container-id-1 div.sk-text-repr-fallback {display: none;}</style><div id=\"sk-container-id-1\" class=\"sk-top-container\"><div class=\"sk-text-repr-fallback\"><pre>XGBClassifier(base_score=None, booster=None, callbacks=None,\n",
       "              colsample_bylevel=None, colsample_bynode=None,\n",
       "              colsample_bytree=None, early_stopping_rounds=None,\n",
       "              enable_categorical=False, eval_metric=None, feature_types=None,\n",
       "              gamma=None, gpu_id=None, grow_policy=None, importance_type=None,\n",
       "              interaction_constraints=None, learning_rate=0.1, max_bin=None,\n",
       "              max_cat_threshold=None, max_cat_to_onehot=None,\n",
       "              max_delta_step=None, max_depth=None, max_leaves=None,\n",
       "              min_child_weight=None, missing=nan, monotone_constraints=None,\n",
       "              n_estimators=500, n_jobs=None, num_parallel_tree=None,\n",
       "              objective=&#x27;multi:softprob&#x27;, predictor=None, ...)</pre><b>In a Jupyter environment, please rerun this cell to show the HTML representation or trust the notebook. <br />On GitHub, the HTML representation is unable to render, please try loading this page with nbviewer.org.</b></div><div class=\"sk-container\" hidden><div class=\"sk-item\"><div class=\"sk-estimator sk-toggleable\"><input class=\"sk-toggleable__control sk-hidden--visually\" id=\"sk-estimator-id-1\" type=\"checkbox\" checked><label for=\"sk-estimator-id-1\" class=\"sk-toggleable__label sk-toggleable__label-arrow\">XGBClassifier</label><div class=\"sk-toggleable__content\"><pre>XGBClassifier(base_score=None, booster=None, callbacks=None,\n",
       "              colsample_bylevel=None, colsample_bynode=None,\n",
       "              colsample_bytree=None, early_stopping_rounds=None,\n",
       "              enable_categorical=False, eval_metric=None, feature_types=None,\n",
       "              gamma=None, gpu_id=None, grow_policy=None, importance_type=None,\n",
       "              interaction_constraints=None, learning_rate=0.1, max_bin=None,\n",
       "              max_cat_threshold=None, max_cat_to_onehot=None,\n",
       "              max_delta_step=None, max_depth=None, max_leaves=None,\n",
       "              min_child_weight=None, missing=nan, monotone_constraints=None,\n",
       "              n_estimators=500, n_jobs=None, num_parallel_tree=None,\n",
       "              objective=&#x27;multi:softprob&#x27;, predictor=None, ...)</pre></div></div></div></div></div>"
      ],
      "text/plain": [
       "XGBClassifier(base_score=None, booster=None, callbacks=None,\n",
       "              colsample_bylevel=None, colsample_bynode=None,\n",
       "              colsample_bytree=None, early_stopping_rounds=None,\n",
       "              enable_categorical=False, eval_metric=None, feature_types=None,\n",
       "              gamma=None, gpu_id=None, grow_policy=None, importance_type=None,\n",
       "              interaction_constraints=None, learning_rate=0.1, max_bin=None,\n",
       "              max_cat_threshold=None, max_cat_to_onehot=None,\n",
       "              max_delta_step=None, max_depth=None, max_leaves=None,\n",
       "              min_child_weight=None, missing=nan, monotone_constraints=None,\n",
       "              n_estimators=500, n_jobs=None, num_parallel_tree=None,\n",
       "              objective='multi:softprob', predictor=None, ...)"
      ]
     },
     "execution_count": 31,
     "metadata": {},
     "output_type": "execute_result"
    }
   ],
   "source": [
    "xgb_model = XGBClassifier(n_estimators = 500, learning_rate = 0.1,verbosity = 1, random_state = RANDOM_STATE)\n",
    "xgb_model.fit(X_train_fit,y_train_fit, eval_set = [(X_train_eval,y_train_eval)], early_stopping_rounds = 50)\n",
    "# Here we must pass a list to the eval_set, because you can have several different tuples ov eval sets. The parameter \n",
    "# early_stopping_rounds is the number of iterations that it will wait to check if the cost function decreased or not.\n",
    "# If not, it will stop and get the iteration that returned the lowest metric on the eval set."
   ]
  },
  {
   "cell_type": "markdown",
   "metadata": {},
   "source": [
    "As you can see, even though you passed 500 estimators to fit, the algorithm only fitted 66 because the log-loss used to metrify the training rounds started to increase. In fact, the number of estimators is even less than 66. If you take a closeer look to the metrics, you see that with 16 fitted trees, we achieved the minimum value of the log-loss, and in fact, this is the number of fitted trees in the final model:"
   ]
  },
  {
   "cell_type": "code",
   "execution_count": 32,
   "metadata": {},
   "outputs": [
    {
     "data": {
      "text/plain": [
       "244"
      ]
     },
     "execution_count": 32,
     "metadata": {},
     "output_type": "execute_result"
    }
   ],
   "source": [
    "xgb_model.best_iteration"
   ]
  },
  {
   "cell_type": "code",
   "execution_count": 33,
   "metadata": {},
   "outputs": [
    {
     "name": "stdout",
     "output_type": "stream",
     "text": [
      "Metrics train:\n",
      "\tAccuracy score: 0.8951\n",
      "Metrics test:\n",
      "\tAccuracy score: 0.5790\n"
     ]
    }
   ],
   "source": [
    "print(f\"Metrics train:\\n\\tAccuracy score: {accuracy_score(xgb_model.predict(X_train),y_train):.4f}\\nMetrics test:\\n\\tAccuracy score: {accuracy_score(xgb_model.predict(X_test),y_test):.4f}\")"
   ]
  },
  {
   "cell_type": "code",
   "execution_count": 92,
   "id": "d2ccae95",
   "metadata": {},
   "outputs": [
    {
     "data": {
      "text/plain": [
       "array([[ 1],\n",
       "       [ 5],\n",
       "       [ 0],\n",
       "       [21],\n",
       "       [32],\n",
       "       [ 4],\n",
       "       [ 1],\n",
       "       [ 0],\n",
       "       [ 4],\n",
       "       [ 4],\n",
       "       [ 0],\n",
       "       [ 0],\n",
       "       [ 0],\n",
       "       [ 0],\n",
       "       [ 0],\n",
       "       [ 7],\n",
       "       [ 3],\n",
       "       [ 4],\n",
       "       [ 4],\n",
       "       [ 0]])"
      ]
     },
     "execution_count": 92,
     "metadata": {},
     "output_type": "execute_result"
    }
   ],
   "source": [
    "new_example = np.array([1, 5, 0, 21, 32, 4, 1, 0, 4, 4, 0, 0, 0, 0, 0, 7, 3, 4, 4, 0])\n",
    "new_example = new_example.reshape(20,1)\n",
    "new_example"
   ]
  },
  {
   "cell_type": "code",
   "execution_count": 93,
   "id": "3cc1ae77",
   "metadata": {},
   "outputs": [
    {
     "name": "stdout",
     "output_type": "stream",
     "text": [
      "[20]\n"
     ]
    },
    {
     "name": "stderr",
     "output_type": "stream",
     "text": [
      "c:\\Users\\Peter\\Documents\\GitHub\\MTG-Land-Recommender\\venv\\lib\\site-packages\\sklearn\\base.py:439: UserWarning: X does not have valid feature names, but RandomForestClassifier was fitted with feature names\n",
      "  warnings.warn(\n"
     ]
    }
   ],
   "source": [
    "print(random_forest_model.predict(new_example.T))"
   ]
  },
  {
   "cell_type": "markdown",
   "metadata": {},
   "source": [
    "You can see that RandomForest achieved the best accuracy, but the results overall were close. And note that we got a very close test metric with XGBoost compared to RandomForest, and we didn't even performed any hyperparameter search! The advantage of XGBoost is that it is faster than the Random Forest and also it has more parameters, therefore you are able to fine-tune the model to achieve even better results.\n",
    "\n",
    "\n",
    "Congratulations, you have learned how to use Decision Tree, Random Forest from the scikit-learn library and XGBoost!"
   ]
  }
 ],
 "metadata": {
  "kernelspec": {
   "display_name": "Python 3",
   "language": "python",
   "name": "python3"
  },
  "language_info": {
   "codemirror_mode": {
    "name": "ipython",
    "version": 3
   },
   "file_extension": ".py",
   "mimetype": "text/x-python",
   "name": "python",
   "nbconvert_exporter": "python",
   "pygments_lexer": "ipython3",
   "version": "3.10.4"
  },
  "vscode": {
   "interpreter": {
    "hash": "56d44d6a8424451b5ce45d1ae0b0b7865dc60710e7f74571dd51dd80d7829ee9"
   }
  }
 },
 "nbformat": 4,
 "nbformat_minor": 5
}
